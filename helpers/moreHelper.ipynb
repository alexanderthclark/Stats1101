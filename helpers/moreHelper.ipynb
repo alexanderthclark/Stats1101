{
 "cells": [
  {
   "cell_type": "code",
   "execution_count": 6,
   "id": "3875763a",
   "metadata": {},
   "outputs": [],
   "source": [
    "import pandas as pd\n",
    "import numpy as np\n",
    "import matplotlib.pyplot as plt\n",
    "import scipy.stats as stats\n",
    "\n",
    "np.random.seed(10)"
   ]
  },
  {
   "cell_type": "code",
   "execution_count": 35,
   "id": "dd1bc1c3",
   "metadata": {},
   "outputs": [],
   "source": [
    "n_tosses = 10 ** np.arange(1,6)"
   ]
  },
  {
   "cell_type": "code",
   "execution_count": 46,
   "id": "23ed0a63",
   "metadata": {},
   "outputs": [],
   "source": [
    "n_sims = 1000\n",
    "\n",
    "summary = pd.DataFrame()\n",
    "summary.index.name = 'no. tosses'\n",
    "\n",
    "for n in n_tosses:\n",
    "    summary.loc[n, 'any'] = 0\n",
    "    summary.loc[n, 'end'] = 0\n",
    "    \n",
    "    for sim in range(n_sims):\n",
    "        tmp = pd.DataFrame()\n",
    "        tmp['toss'] = stats.bernoulli.rvs(p = 0.5, size = n)\n",
    "        tmp['p_hat'] = tmp.toss.cumsum() / np.arange(1, len(tmp)+1)\n",
    "        tmp['SE'] = 0.5 / np.sqrt(np.arange(1,len(tmp)+1))\n",
    "        tmp['z'] = (tmp.p_hat - 0.5) / tmp.SE\n",
    "        \n",
    "        summary.loc[n, 'end'] += 1*(tmp.z.values[-1] > 1.645)\n",
    "        summary.loc[n, 'any'] += 1*(tmp.z.max() > 1.645)\n"
   ]
  },
  {
   "cell_type": "code",
   "execution_count": 51,
   "id": "7879d692",
   "metadata": {},
   "outputs": [],
   "source": [
    "s = (100*summary/n_sims).reset_index().style.format(\"{:,.0f}\", subset = ['no. tosses'])\\\n",
    "            .format(\"{:.2f}%\", subset = ['any', 'end']).to_latex(hrules = True)"
   ]
  },
  {
   "cell_type": "code",
   "execution_count": 52,
   "id": "98683bca",
   "metadata": {},
   "outputs": [
    {
     "name": "stdout",
     "output_type": "stream",
     "text": [
      "\\begin{tabular}{lrrr}\n",
      "\\toprule\n",
      " & no. tosses & any & end \\\\\n",
      "\\midrule\n",
      "0 & 10 & 19.10% & 5.50% \\\\\n",
      "1 & 100 & 31.40% & 4.60% \\\\\n",
      "2 & 1,000 & 44.20% & 4.20% \\\\\n",
      "3 & 10,000 & 53.30% & 4.50% \\\\\n",
      "4 & 100,000 & 63.80% & 5.30% \\\\\n",
      "\\bottomrule\n",
      "\\end{tabular}\n",
      "\n"
     ]
    }
   ],
   "source": [
    "print(s)"
   ]
  },
  {
   "cell_type": "code",
   "execution_count": 54,
   "id": "d84638d8",
   "metadata": {},
   "outputs": [
    {
     "data": {
      "text/plain": [
       "<Axes: xlabel='no. tosses'>"
      ]
     },
     "execution_count": 54,
     "metadata": {},
     "output_type": "execute_result"
    },
    {
     "data": {
      "image/png": "[encoded data removed]",
      "text/plain": [
       "<Figure size 640x480 with 1 Axes>"
      ]
     },
     "metadata": {},
     "output_type": "display_data"
    }
   ],
   "source": [
    "summary.plot()"
   ]
  },
  {
   "cell_type": "code",
   "execution_count": null,
   "id": "9cfb3310",
   "metadata": {},
   "outputs": [],
   "source": []
  }
 ],
 "metadata": {
  "kernelspec": {
   "display_name": "Python 3 (ipykernel)",
   "language": "python",
   "name": "python3"
  },
  "language_info": {
   "codemirror_mode": {
    "name": "ipython",
    "version": 3
   },
   "file_extension": ".py",
   "mimetype": "text/x-python",
   "name": "python",
   "nbconvert_exporter": "python",
   "pygments_lexer": "ipython3",
   "version": "3.11.5"
  }
 },
 "nbformat": 4,
 "nbformat_minor": 5
}
