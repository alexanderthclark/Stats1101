{
 "cells": [
  {
   "cell_type": "code",
   "execution_count": 71,
   "id": "077bd9fa",
   "metadata": {},
   "outputs": [],
   "source": [
    "import pandas as pd\n",
    "import numpy as np\n",
    "import scipy.stats as stats\n",
    "import matplotlib.pyplot as plt\n",
    "from statsmodels.stats.proportion import proportions_ztest\n",
    "from statsmodels.stats.weightstats import ztest"
   ]
  },
  {
   "cell_type": "code",
   "execution_count": null,
   "id": "d1eed8a7",
   "metadata": {},
   "outputs": [],
   "source": [
    "statsmodels.stats.weightstats.ztest(x1, x2=None, value=0, alternative='two-sided', usevar='pooled', ddof=1.0)"
   ]
  },
  {
   "cell_type": "code",
   "execution_count": 82,
   "id": "34eb4254",
   "metadata": {},
   "outputs": [
    {
     "data": {
      "text/plain": [
       "(0.06551339017334061, 0.4738826227115864)"
      ]
     },
     "execution_count": 82,
     "metadata": {},
     "output_type": "execute_result"
    }
   ],
   "source": [
    "data =  np.array([1]*39 + (116-39)*[0])\n",
    "\n",
    "ztest(data, value= 1/3, alternative = 'larger', usevar='pooled', ddof=0)"
   ]
  },
  {
   "cell_type": "code",
   "execution_count": 85,
   "id": "e96b593b",
   "metadata": {},
   "outputs": [
    {
     "data": {
      "text/plain": [
       "0.26261286571944603"
      ]
     },
     "execution_count": 85,
     "metadata": {},
     "output_type": "execute_result"
    }
   ],
   "source": [
    "k = 40\n",
    "phat = k/116\n",
    "n = 116\n",
    "p = 1/3\n",
    "SE = np.sqrt(p*(1-p)/n)\n",
    "z = (phat-p)/SE\n",
    "z"
   ]
  },
  {
   "cell_type": "code",
   "execution_count": 86,
   "id": "34e53bdb",
   "metadata": {},
   "outputs": [
    {
     "data": {
      "text/plain": [
       "0.06565321642986183"
      ]
     },
     "execution_count": 86,
     "metadata": {},
     "output_type": "execute_result"
    }
   ],
   "source": [
    "k = 39\n",
    "phat = k/116\n",
    "n = 116\n",
    "p = 1/3n\n",
    "SE = np.sqrt(p*(1-p)/n)\n",
    "z = (phat-p)/SE\n",
    "z"
   ]
  },
  {
   "cell_type": "code",
   "execution_count": 17,
   "id": "408b7030",
   "metadata": {},
   "outputs": [
    {
     "data": {
      "text/plain": [
       "(0.33620689655172414, 0.3448275862068966)"
      ]
     },
     "execution_count": 17,
     "metadata": {},
     "output_type": "execute_result"
    }
   ],
   "source": [
    "39/116, 40/116"
   ]
  },
  {
   "cell_type": "code",
   "execution_count": 40,
   "id": "ba6b36a5",
   "metadata": {},
   "outputs": [
    {
     "data": {
      "text/plain": [
       "0.04376881095324085"
      ]
     },
     "execution_count": 40,
     "metadata": {},
     "output_type": "execute_result"
    }
   ],
   "source": [
    "p = 40/116\n",
    "n = 116\n",
    "\n",
    "p = 1/3\n",
    "SE = np.sqrt(p*(1-p)/n)\n",
    "\n",
    "SE"
   ]
  },
  {
   "cell_type": "code",
   "execution_count": 41,
   "id": "fce3bab1",
   "metadata": {},
   "outputs": [
    {
     "data": {
      "text/plain": [
       "0.22440000000000002"
      ]
     },
     "execution_count": 41,
     "metadata": {},
     "output_type": "execute_result"
    }
   ],
   "source": [
    ".34*.66"
   ]
  },
  {
   "cell_type": "code",
   "execution_count": 42,
   "id": "7ba1a246",
   "metadata": {},
   "outputs": [
    {
     "data": {
      "text/plain": [
       "0.0437469210739256"
      ]
     },
     "execution_count": 42,
     "metadata": {},
     "output_type": "execute_result"
    }
   ],
   "source": [
    "np.sqrt(.222/116)"
   ]
  },
  {
   "cell_type": "code",
   "execution_count": 67,
   "id": "321158b9",
   "metadata": {},
   "outputs": [
    {
     "data": {
      "text/plain": [
       "(1.0954451150103321, 1.0954451150103321)"
      ]
     },
     "execution_count": 67,
     "metadata": {},
     "output_type": "execute_result"
    }
   ],
   "source": [
    "z_twoside, pval_twoside = proportions_ztest(count=18,\n",
    "                                            nobs=30,\n",
    "                                            value=.5,\n",
    "                                            prop_var=0.5,\n",
    "                                            alternative='larger')\n",
    "\n",
    "# Two sided by hand\n",
    "p_hat = 0.6\n",
    "p = .5\n",
    "n = 30\n",
    "sd = (p*(1-p) / (n))**0.5 # st dev from sampling distribution\n",
    "z2 = (p_hat - p)/sd # test stat\n",
    "pval2 = 2*(1 - stats.norm.cdf(z2)) # P-value\n",
    "\n",
    "z2, z_twoside"
   ]
  },
  {
   "cell_type": "code",
   "execution_count": 70,
   "id": "29cb7700",
   "metadata": {},
   "outputs": [
    {
     "data": {
      "text/plain": [
       "(0.15231546211727914, 0.26261286571944603)"
      ]
     },
     "execution_count": 70,
     "metadata": {},
     "output_type": "execute_result"
    }
   ],
   "source": [
    "p0 = 1/3\n",
    "z_twoside, pval_twoside = proportions_ztest(count=40,\n",
    "                                            nobs=116,\n",
    "                                            value= p0,\n",
    "                                            prop_var= p0,\n",
    "                                            alternative='larger')\n",
    "\n",
    "# Two sided by hand\n",
    "p_hat = 0.34\n",
    "p = p0\n",
    "n = 116\n",
    "sd = (p*(1-p) / (n))**0.5 # st dev from sampling distribution\n",
    "z2 = (p_hat - p)/sd # test stat\n",
    "pval2 = 2*(1 - stats.norm.cdf(z2)) # P-value\n",
    "\n",
    "z2, z_twoside"
   ]
  },
  {
   "cell_type": "code",
   "execution_count": 92,
   "id": "fe905bab",
   "metadata": {},
   "outputs": [
    {
     "data": {
      "text/plain": [
       "0.15231546211727914"
      ]
     },
     "execution_count": 92,
     "metadata": {},
     "output_type": "execute_result"
    }
   ],
   "source": [
    "(.34 - (1/3)) / np.sqrt( (2/9) / 116)"
   ]
  },
  {
   "cell_type": "code",
   "execution_count": 95,
   "id": "73c1b43e",
   "metadata": {},
   "outputs": [
    {
     "data": {
      "text/plain": [
       "0.06565321642986183"
      ]
     },
     "execution_count": 95,
     "metadata": {},
     "output_type": "execute_result"
    }
   ],
   "source": [
    "k=39\n",
    "((k/116) - (1/3)) / np.sqrt( (2/9) / 116)\n"
   ]
  },
  {
   "cell_type": "code",
   "execution_count": 65,
   "id": "788f9c52",
   "metadata": {},
   "outputs": [],
   "source": [
    "# One-sided\n",
    "z_oneside, pval_oneside = proportions_ztest(count = 40, \n",
    "                                            nobs = 116, \n",
    "                                            value = 1/3, \n",
    "                                            prop_var = 1/3, \n",
    "                                            alternative = 'larger')\n"
   ]
  },
  {
   "cell_type": "code",
   "execution_count": 104,
   "id": "9e8244bb",
   "metadata": {},
   "outputs": [
    {
     "data": {
      "text/plain": [
       "0.43959346782576125"
      ]
     },
     "execution_count": 104,
     "metadata": {},
     "output_type": "execute_result"
    }
   ],
   "source": [
    "1 - stats.norm.cdf(.152)"
   ]
  },
  {
   "cell_type": "code",
   "execution_count": 106,
   "id": "502ea198",
   "metadata": {},
   "outputs": [
    {
     "data": {
      "image/png": "[encoded data removed]",
      "text/plain": [
       "<Figure size 640x480 with 2 Axes>"
      ]
     },
     "metadata": {},
     "output_type": "display_data"
    }
   ],
   "source": [
    "fig, axs = plt.subplots(2,1, sharey=True)\n",
    "\n",
    "\n",
    "\n",
    "x = np.linspace(-4,4, 100_000)\n",
    "norm_pdf = stats.norm.pdf(x)\n",
    "\n",
    "# Plot the test statistic\n",
    "z_oneside = .152\n",
    "\n",
    "\n",
    "for ax in axs:\n",
    "    # add normal curve\n",
    "    ax.plot(x, norm_pdf, lw = 3)\n",
    "\n",
    "    # add z stat\n",
    "    ax.axvline(z_oneside, linestyle = 'dashed')\n",
    "    ax.text(z_oneside, 0.3, ' $z$', ha = 'left', size = 12, color = 'C0')\n",
    "\n",
    "    # Clean plot\n",
    "    for s in 'left', 'right', 'top':\n",
    "        ax.spines[s].set_visible(False)\n",
    "        ax.yaxis.set_ticks([])\n",
    "        ax.set_ylim(0,.42)\n",
    "\n",
    "\n",
    "# draw rejection region\n",
    "ax = axs[1]\n",
    "alpha = .05\n",
    "critical_value = stats.norm.ppf(1 - alpha) # for one-sided\n",
    "rejection_x = x[x>critical_value]\n",
    "ax.fill_between(rejection_x, norm_pdf[-len(rejection_x):], color = 'red', alpha = 0.2)\n",
    "ax.text(3, .14, 'Rejection Region', fontsize = 14, color = (.6, .2, .2),\n",
    "           va = 'bottom',\n",
    "           ha = 'center') \n",
    "ax.text(3, .14, '(fail to reject)', fontsize = 11, color = (.6, .2, .2),\n",
    "            va = 'top',\n",
    "            ha = 'center') \n",
    "ax.set_xticks([z_oneside, critical_value])\n",
    "\n",
    "# shade p-value\n",
    "ax = axs[0]\n",
    "\n",
    "\n",
    "more_extreme_x = x[x>z_oneside]\n",
    "ax.fill_between(more_extreme_x, norm_pdf[-len(more_extreme_x):], color = (.2, .2, .2), alpha = 0.2)\n",
    "ax.text(2.84, .17, 'P-Value', fontsize = 14, color = (.2, .2, .2),\n",
    "           va = 'bottom',\n",
    "       ha = 'center') \n",
    "ax.text(2.84, .17, r'(area $\\approx$ 0.44)', fontsize = 11, color = (.2, .2, .2),\n",
    "           va = 'top',\n",
    "       ha = 'center') \n",
    "\n",
    "plt.tight_layout()\n",
    "plt.savefig(\"../book/images/onesidedHT.svg\", transparent=True)"
   ]
  },
  {
   "cell_type": "markdown",
   "id": "604d984e",
   "metadata": {},
   "source": [
    "### critical_value"
   ]
  },
  {
   "cell_type": "code",
   "execution_count": 3,
   "id": "722f8cec",
   "metadata": {},
   "outputs": [
    {
     "ename": "NameError",
     "evalue": "name 'z_oneside' is not defined",
     "output_type": "error",
     "traceback": [
      "\u001b[0;31m---------------------------------------------------------------------------\u001b[0m",
      "\u001b[0;31mNameError\u001b[0m                                 Traceback (most recent call last)",
      "Cell \u001b[0;32mIn[3], line 16\u001b[0m\n\u001b[1;32m     13\u001b[0m ax\u001b[38;5;241m.\u001b[39mplot(x, norm_pdf, lw \u001b[38;5;241m=\u001b[39m \u001b[38;5;241m3\u001b[39m)\n\u001b[1;32m     15\u001b[0m \u001b[38;5;66;03m# add z stat\u001b[39;00m\n\u001b[0;32m---> 16\u001b[0m ax\u001b[38;5;241m.\u001b[39maxvline(z_oneside, linestyle \u001b[38;5;241m=\u001b[39m \u001b[38;5;124m'\u001b[39m\u001b[38;5;124mdashed\u001b[39m\u001b[38;5;124m'\u001b[39m)\n\u001b[1;32m     17\u001b[0m ax\u001b[38;5;241m.\u001b[39mtext(z_oneside, \u001b[38;5;241m0.3\u001b[39m, \u001b[38;5;124m'\u001b[39m\u001b[38;5;124m $z$\u001b[39m\u001b[38;5;124m'\u001b[39m, ha \u001b[38;5;241m=\u001b[39m \u001b[38;5;124m'\u001b[39m\u001b[38;5;124mleft\u001b[39m\u001b[38;5;124m'\u001b[39m, size \u001b[38;5;241m=\u001b[39m \u001b[38;5;241m12\u001b[39m, color \u001b[38;5;241m=\u001b[39m \u001b[38;5;124m'\u001b[39m\u001b[38;5;124mC0\u001b[39m\u001b[38;5;124m'\u001b[39m)\n\u001b[1;32m     19\u001b[0m \u001b[38;5;66;03m# Clean plot\u001b[39;00m\n",
      "\u001b[0;31mNameError\u001b[0m: name 'z_oneside' is not defined"
     ]
    },
    {
     "data": {
      "image/png": "[encoded data removed]",
      "text/plain": [
       "<Figure size 1300x500 with 2 Axes>"
      ]
     },
     "metadata": {},
     "output_type": "display_data"
    }
   ],
   "source": [
    "import matplotlib.pyplot as plt\n",
    "import numpy as np\n",
    "\n",
    "x = np.linspace(-4,4, 100_000)\n",
    "norm_pdf = stats.norm.pdf(x)\n",
    "\n",
    "# Make empty figure\n",
    "fig, axs = plt.subplots(2, 1, figsize = (13,5),\n",
    "                        sharey = True)\n",
    "\n",
    "for ax in axs:\n",
    "    # add normal curve\n",
    "    ax.plot(x, norm_pdf, lw = 3)\n",
    "\n",
    "    # add z stat\n",
    "    ax.axvline(z_oneside, linestyle = 'dashed')\n",
    "    ax.text(z_oneside, 0.3, ' $z$', ha = 'left', size = 12, color = 'C0')\n",
    "\n",
    "    # Clean plot\n",
    "    for s in 'left', 'right', 'top':\n",
    "        ax.spines[s].set_visible(False)\n",
    "        ax.yaxis.set_ticks([])\n",
    "        ax.set_ylim(0,.42)\n",
    "\n",
    "\n",
    "# draw rejection region\n",
    "ax = axs[0]\n",
    "alpha = .05\n",
    "critical_value = stats.norm.ppf(1 - alpha) # for one-sided\n",
    "rejection_x = x[x>critical_value]\n",
    "ax.fill_between(rejection_x, norm_pdf[-len(rejection_x):], color = 'red', alpha = 0.2)\n",
    "ax.text(1.8, .14, 'Rejection Region', fontsize = 19, color = (.6, .2, .2)) \n",
    "\n",
    "# shade p-value\n",
    "ax = axs[1]\n",
    "more_extreme_x = x[x>z_oneside]\n",
    "ax.fill_between(more_extreme_x, norm_pdf[-len(more_extreme_x):], color = (.2, .2, .2), alpha = 0.2)\n",
    "ax.text(2, .17, 'P-Value', fontsize = 19, color = (.2, .2, .2)) \n",
    "\n",
    "#ax.set_title(\"One-sided Test\", fontsize = 15)\n",
    "fig.tight_layout()\n",
    "#fig.savefig(\"onesidedtest.pdf\")\n",
    "fig.show()"
   ]
  },
  {
   "cell_type": "code",
   "execution_count": null,
   "id": "33b36399",
   "metadata": {},
   "outputs": [],
   "source": []
  }
 ],
 "metadata": {
  "kernelspec": {
   "display_name": "Python 3 (ipykernel)",
   "language": "python",
   "name": "python3"
  },
  "language_info": {
   "codemirror_mode": {
    "name": "ipython",
    "version": 3
   },
   "file_extension": ".py",
   "mimetype": "text/x-python",
   "name": "python",
   "nbconvert_exporter": "python",
   "pygments_lexer": "ipython3",
   "version": "3.11.5"
  }
 },
 "nbformat": 4,
 "nbformat_minor": 5
}
