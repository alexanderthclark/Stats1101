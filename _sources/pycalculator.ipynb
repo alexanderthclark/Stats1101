{
 "cells": [
  {
   "cell_type": "markdown",
   "id": "083bf6b5",
   "metadata": {},
   "source": [
    "# Basics\n",
    "\n",
    "## Calculations\n",
    "\n",
    "Below is a list of some typical operations. What might stand out is that exponentiation is done with `**` and not `^`. Write `2**4` for $2^4$. It happens that `^` still runs, but it does something else.\n",
    "\n",
    "| Operator | Description                        | \n",
    "|----------|------------------------------------|\n",
    "| `+`      | Addition                           |\n",
    "| `-`      | Subtraction                        |\n",
    "| `*`      | Multiplication                     |\n",
    "| `/`      | Floating point (normal) division   |\n",
    "| `**`     | Exponentiation                     |\n",
    "\n",
    "We can use parenthesis for readability and to order operations in the usual way."
   ]
  },
  {
   "cell_type": "code",
   "execution_count": 1,
   "id": "82635a4a",
   "metadata": {},
   "outputs": [
    {
     "data": {
      "text/plain": [
       "1"
      ]
     },
     "execution_count": 1,
     "metadata": {},
     "output_type": "execute_result"
    }
   ],
   "source": [
    "1 - 1 * 0"
   ]
  },
  {
   "cell_type": "code",
   "execution_count": 2,
   "id": "8687b9ef",
   "metadata": {},
   "outputs": [
    {
     "data": {
      "text/plain": [
       "0"
      ]
     },
     "execution_count": 2,
     "metadata": {},
     "output_type": "execute_result"
    }
   ],
   "source": [
    "(1 - 1) * 0"
   ]
  },
  {
   "cell_type": "markdown",
   "id": "caaa3e34",
   "metadata": {},
   "source": [
    "## Variables\n",
    "\n",
    "A Python variable holds a value. It can be text, a number, or perhaps a more complicated data type. Variable assignment is done with the equals sign, `=`. Below we, we create a string variable called `greeting` and a integer variable called `my_favorite_number`."
   ]
  },
  {
   "cell_type": "code",
   "execution_count": 3,
   "id": "3b6a7f36",
   "metadata": {},
   "outputs": [],
   "source": [
    "greeting = \"Hello, World!\"\n",
    "my_favorite_number = 91"
   ]
  },
  {
   "cell_type": "markdown",
   "id": "59c24194",
   "metadata": {},
   "source": [
    "The `print` function will display the value in the output. Compare the output you get from the following. We reference the actual variable with `greeting`, not when using quotes for `\"greeting\"`."
   ]
  },
  {
   "cell_type": "code",
   "execution_count": 4,
   "id": "1f561c80",
   "metadata": {},
   "outputs": [
    {
     "name": "stdout",
     "output_type": "stream",
     "text": [
      "Hello, World!\n",
      "greeting\n",
      "Hello, World!\n",
      "91\n",
      "91\n",
      "my_favorite_number\n"
     ]
    }
   ],
   "source": [
    "print(greeting)\n",
    "print(\"greeting\")\n",
    "print(\"Hello, World!\")\n",
    "print(91)\n",
    "print(my_favorite_number)\n",
    "print(\"my_favorite_number\")"
   ]
  },
  {
   "cell_type": "markdown",
   "id": "b9d564e7",
   "metadata": {},
   "source": [
    "Note that while $x = x+1$ is nonsense as a mathematical equation, in Python`x = x + 1` simply adds one to the value of `x`."
   ]
  },
  {
   "cell_type": "code",
   "execution_count": 5,
   "id": "c81fe938",
   "metadata": {},
   "outputs": [
    {
     "name": "stdout",
     "output_type": "stream",
     "text": [
      "2\n"
     ]
    }
   ],
   "source": [
    "x = 0\n",
    "x = x + 1 \n",
    "x = x + 1\n",
    "print(x)"
   ]
  },
  {
   "cell_type": "markdown",
   "id": "77987cd3",
   "metadata": {},
   "source": [
    "Aside: There happens to be a shorter syntax for the above. `x = x + 1` can be replaced by `x += 1`. This is more Pythonic, but not a big deal. "
   ]
  },
  {
   "cell_type": "code",
   "execution_count": 6,
   "id": "0c6fe202",
   "metadata": {},
   "outputs": [
    {
     "name": "stdout",
     "output_type": "stream",
     "text": [
      "2\n"
     ]
    }
   ],
   "source": [
    "x = 0\n",
    "x += 1 \n",
    "x += 1\n",
    "print(x)"
   ]
  },
  {
   "cell_type": "markdown",
   "id": "9039db45",
   "metadata": {},
   "source": [
    "## Comments\n",
    "\n",
    "Commenting your code is helpful if you care about your colleagues or your future self. Comments should add clarity to the intention and workings of code. A comment is a piece of code that isn't actually executed-it's a comment left for the reader or the person who inherits and modifies your code.\n",
    "Everything after a `#` will be ignored by Python."
   ]
  },
  {
   "cell_type": "code",
   "execution_count": 7,
   "id": "53ae0575",
   "metadata": {},
   "outputs": [
    {
     "name": "stdout",
     "output_type": "stream",
     "text": [
      "Hello, World!\n"
     ]
    }
   ],
   "source": [
    "# This will print a greeting.\n",
    "print(\"Hello, World!\") "
   ]
  },
  {
   "cell_type": "markdown",
   "id": "0c7d038a",
   "metadata": {},
   "source": [
    "You might also use end-line comments like the following."
   ]
  },
  {
   "cell_type": "code",
   "execution_count": 8,
   "id": "784a1b0c",
   "metadata": {},
   "outputs": [
    {
     "name": "stdout",
     "output_type": "stream",
     "text": [
      "Hello, World!\n"
     ]
    }
   ],
   "source": [
    "print(\"Hello, World!\") # Prints a greeting"
   ]
  },
  {
   "cell_type": "markdown",
   "id": "6832e9ac",
   "metadata": {},
   "source": [
    "Perfect comment technique does not correct for bad code though. Compare the following blocks of code. "
   ]
  },
  {
   "cell_type": "code",
   "execution_count": 9,
   "id": "289a71ed",
   "metadata": {},
   "outputs": [],
   "source": [
    "x = 90 # Wins\n",
    "y = 10 # Losses\n",
    "a = 100 * x/(y+x) # Winning Percentage"
   ]
  },
  {
   "cell_type": "code",
   "execution_count": 10,
   "id": "e7164915",
   "metadata": {},
   "outputs": [],
   "source": [
    "wins = 90\n",
    "losses = 10\n",
    "winning_percentage = 100 * wins / (losses + wins)"
   ]
  },
  {
   "cell_type": "markdown",
   "id": "bce6b572",
   "metadata": {},
   "source": [
    "The first block is commented and the second is not. Still, the second code block is better because the variable names are chosen so you don't *need* comments. Good naming becomes even more important as the program becomes longer, variables are used over and over, and you start working with collaborators. \n",
    "\n",
    "In this case, longer and more descriptive variable names are preferable to shorter variable names. If one program can do the same thing as another with fewer characters, that doesn't make it better. *Code golf* is a kind of recreational coding where one tries to get from point A to point B in as few characters as possible. Being a good *code golfer* is not the same as being a good coder. "
   ]
  }
 ],
 "metadata": {
  "kernelspec": {
   "display_name": "Python 3 (ipykernel)",
   "language": "python",
   "name": "python3"
  },
  "language_info": {
   "codemirror_mode": {
    "name": "ipython",
    "version": 3
   },
   "file_extension": ".py",
   "mimetype": "text/x-python",
   "name": "python",
   "nbconvert_exporter": "python",
   "pygments_lexer": "ipython3",
   "version": "3.11.5"
  }
 },
 "nbformat": 4,
 "nbformat_minor": 5
}
