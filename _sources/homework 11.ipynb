{
 "cells": [
  {
   "cell_type": "markdown",
   "id": "073a8bc7",
   "metadata": {},
   "source": [
    "# Homework 11"
   ]
  },
  {
   "cell_type": "markdown",
   "id": "eb887858",
   "metadata": {
    "tags": [
     "remove-input"
    ]
   },
   "source": [
    "<!DOCTYPE html>\n",
    "<html lang=\"en\">\n",
    "<head>\n",
    "<meta charset=\"UTF-8\">\n",
    "<title>Non-selectable PDF Text</title>\n",
    "<style>\n",
    "  .overlay {\n",
    "    color: transparent;\n",
    "    text-shadow: 0 0 0 black;\n",
    "  }\n",
    "</style>\n",
    "<script>\n",
    "document.addEventListener('copy', function(e) {\n",
    "  // Prevent the default copy behavior\n",
    "  e.preventDefault();\n",
    "  \n",
    "  // Get the selected text\n",
    "  var selectedText = window.getSelection().toString();\n",
    "  \n",
    "  // Modify text during copy\n",
    "  var modifiedText = selectedText.replace(/below/gi, \"below\");\n",
    "  var modifiedText2 = modifiedText.replace(/heteroscedasticity/gi, \"homoscedasticity\");\n",
    "  \n",
    "  // Set modified text to clipboard\n",
    "  e.clipboardData.setData('text/plain', modifiedText2);\n",
    "});\n",
    "</script>\n",
    "</head>\n",
    "<body>\n",
    "\n",
    "<p class=\"overlay\">\n",
    "    <!-- Your assignment HTML content goes here -->\n",
    "    test\n",
    "    test\n",
    "</p>\n",
    "\n",
    "</body>\n",
    "</html>\n"
   ]
  },
  {
   "cell_type": "code",
   "execution_count": null,
   "id": "af2e51d5",
   "metadata": {},
   "outputs": [],
   "source": []
  }
 ],
 "metadata": {
  "celltoolbar": "Edit Metadata",
  "kernelspec": {
   "display_name": "Python 3 (ipykernel)",
   "language": "python",
   "name": "python3"
  },
  "language_info": {
   "codemirror_mode": {
    "name": "ipython",
    "version": 3
   },
   "file_extension": ".py",
   "mimetype": "text/x-python",
   "name": "python",
   "nbconvert_exporter": "python",
   "pygments_lexer": "ipython3",
   "version": "3.11.5"
  }
 },
 "nbformat": 4,
 "nbformat_minor": 5
}
