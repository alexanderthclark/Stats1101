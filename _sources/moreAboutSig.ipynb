{
 "cells": [
  {
   "cell_type": "markdown",
   "id": "68168b94",
   "metadata": {},
   "source": [
    "(more)=\n",
    "# More About Tests of Significance\n",
    "\n",
    "```{admonition} Important Readings\n",
    ":class: seealso\n",
    "- {cite}`freedman2007statistics`, Chapters 29\n",
    "```\n",
    "\n",
    "A test of significance is table stakes in business or academia for almost any empirical result. Test results are just information though, meaning they still have to be interpreted, critiqued, and put to use wisely. In this section, we'll discuss ways tests can be run improperly.\n",
    "\n",
    "The first thing to emphasize is not new: correlation is not causation. Suppose we compare test scores among elementary students with a long recess period to elementary students with a short recess period. \n",
    "\n",
    "\n",
    "## Data Snooping\n",
    "\n",
    "\n",
    "## Was the result important? \n",
    "\n",
    "\n",
    "## Garbage In, Garbage Out\n",
    "\n"
   ]
  }
 ],
 "metadata": {
  "kernelspec": {
   "display_name": "Python 3 (ipykernel)",
   "language": "python",
   "name": "python3"
  },
  "language_info": {
   "codemirror_mode": {
    "name": "ipython",
    "version": 3
   },
   "file_extension": ".py",
   "mimetype": "text/x-python",
   "name": "python",
   "nbconvert_exporter": "python",
   "pygments_lexer": "ipython3",
   "version": "3.11.5"
  }
 },
 "nbformat": 4,
 "nbformat_minor": 5
}
