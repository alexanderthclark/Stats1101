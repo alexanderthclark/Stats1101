{
 "cells": [
  {
   "cell_type": "markdown",
   "metadata": {
    "id": "0yRKQXflMDGu"
   },
   "source": [
    "# Overview\n",
    "\n",
    "R is not popular in industry. It's more popular in academia, and I'll occasionally find myself leaving Python to use R if I need to do something more advanced.\n",
    "\n",
    "## Running R\n",
    "\n",
    "This is a Python notebook that runs R code. This is done with the first cell below and then by adding the `%%R` command to every cell with R code.\n",
    "\n",
    "### Alternative\n",
    "\n",
    "Open an R notebook in Google Colab by opening a notebook and then changing the runtime type.\n",
    "\n",
    "1. Go to the 'Runtime' menu at the top of the page.\n",
    "2. Select 'Change runtime type'.\n",
    "3. Choose 'R' under 'Runtime type'.\n",
    "4. Click 'Save'.\n",
    "\n",
    "\n",
    "## R as a Calculator\n",
    "\n",
    "Below is a list of some typical operations.\n",
    "\n",
    "| Operator | Description                        |\n",
    "|----------|------------------------------------|\n",
    "| `+`      | Addition                           |\n",
    "| `-`      | Subtraction                        |\n",
    "| `*`      | Multiplication                     |\n",
    "| `/`      | Floating point (normal) division   |\n",
    "| `^`      | Exponentiation                     |\n",
    "\n",
    "We can use parenthesis for readability and to order operations in the usual way."
   ]
  },
  {
   "cell_type": "code",
   "execution_count": null,
   "metadata": {
    "id": "AfW2bnwbQrEw",
    "tags": [
     "remove-output"
    ]
   },
   "outputs": [],
   "source": [
    "!pip install rpy2\n",
    "%load_ext rpy2.ipython"
   ]
  },
  {
   "cell_type": "code",
   "execution_count": 2,
   "metadata": {
    "colab": {
     "base_uri": "https://localhost:8080/"
    },
    "id": "2J8HjtBGLTJ8",
    "outputId": "94a62313-a978-47df-e26e-3abe5a3780a8"
   },
   "outputs": [
    {
     "name": "stdout",
     "output_type": "stream",
     "text": [
      "[1] 8\n"
     ]
    }
   ],
   "source": [
    "%%R\n",
    "2 ^ 3"
   ]
  },
  {
   "cell_type": "code",
   "execution_count": 3,
   "metadata": {
    "colab": {
     "base_uri": "https://localhost:8080/"
    },
    "id": "EPDI09mtLY8r",
    "outputId": "5a1a1284-0c78-4c0d-ebc9-c7574631a999"
   },
   "outputs": [
    {
     "name": "stdout",
     "output_type": "stream",
     "text": [
      "[1] 0\n"
     ]
    }
   ],
   "source": [
    "%%R\n",
    "(1 - 1) * 0"
   ]
  },
  {
   "cell_type": "code",
   "execution_count": 4,
   "metadata": {
    "colab": {
     "base_uri": "https://localhost:8080/"
    },
    "id": "TZ_71jQgLaQM",
    "outputId": "1b85a2a2-270b-4995-e07b-26622b495cd3"
   },
   "outputs": [
    {
     "name": "stdout",
     "output_type": "stream",
     "text": [
      "[1] 1\n"
     ]
    }
   ],
   "source": [
    "%%R\n",
    "1 - 1 * 0"
   ]
  },
  {
   "cell_type": "markdown",
   "metadata": {
    "id": "pvNoI81oNVYQ"
   },
   "source": [
    "# Variables\n",
    "\n",
    "You can assign a value to a variable with `<-`."
   ]
  },
  {
   "cell_type": "code",
   "execution_count": 5,
   "metadata": {
    "id": "IoplJlHjNbVR"
   },
   "outputs": [],
   "source": [
    "%%R\n",
    "x <- 0"
   ]
  },
  {
   "cell_type": "code",
   "execution_count": 6,
   "metadata": {
    "colab": {
     "base_uri": "https://localhost:8080/"
    },
    "id": "14ZldwPJNdJc",
    "outputId": "420725c7-56a4-4ab8-a876-e3f102667396"
   },
   "outputs": [
    {
     "name": "stdout",
     "output_type": "stream",
     "text": [
      "[1] 1\n"
     ]
    }
   ],
   "source": [
    "%%R\n",
    "x <- x + 1\n",
    "\n",
    "x"
   ]
  },
  {
   "cell_type": "markdown",
   "metadata": {
    "id": "3aBecdaYNgDb"
   },
   "source": [
    "# Comments\n",
    "\n",
    "Commenting your code is helpful if you care about your colleagues or your future self. Comments should add clarity to the intention and workings of code. A comment is a piece of code that isn't actually executed-it's a comment left for the reader or the person who inherits and modifies your code.\n",
    "Everything after a `#` will be ignored by R."
   ]
  },
  {
   "cell_type": "code",
   "execution_count": 7,
   "metadata": {
    "colab": {
     "base_uri": "https://localhost:8080/"
    },
    "id": "IlcKa8ICNg0z",
    "outputId": "fa52324f-6588-4685-89fb-647dbfe60601"
   },
   "outputs": [
    {
     "name": "stdout",
     "output_type": "stream",
     "text": [
      "[1] 90\n"
     ]
    }
   ],
   "source": [
    "%%R\n",
    "# The + 1000 is ignored because it's commented out.\n",
    "9*10 # + 1000"
   ]
  }
 ],
 "metadata": {
  "celltoolbar": "Edit Metadata",
  "colab": {
   "authorship_tag": "ABX9TyNfxww6KsFdChL2vKnX+z14",
   "provenance": []
  },
  "kernelspec": {
   "display_name": "Python 3 (ipykernel)",
   "language": "python",
   "name": "python3"
  },
  "language_info": {
   "codemirror_mode": {
    "name": "ipython",
    "version": 3
   },
   "file_extension": ".py",
   "mimetype": "text/x-python",
   "name": "python",
   "nbconvert_exporter": "python",
   "pygments_lexer": "ipython3",
   "version": "3.11.5"
  }
 },
 "nbformat": 4,
 "nbformat_minor": 1
}
