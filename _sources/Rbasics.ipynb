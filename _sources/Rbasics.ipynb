{
  "nbformat": 4,
  "nbformat_minor": 0,
  "metadata": {
    "colab": {
      "provenance": [],
      "authorship_tag": "ABX9TyNfxww6KsFdChL2vKnX+z14"
    },
    "kernelspec": {
      "name": "python3",
      "display_name": "Python 3"
    },
    "language_info": {
      "name": "python"
    }
  },
  "cells": [
    {
      "cell_type": "markdown",
      "source": [
        "# Overview\n",
        "\n",
        "R is not popular in industry. It's more popular in academia, and I'll occasionally find myself leaving Python to use R if I need to do something more advanced.\n",
        "\n",
        "## Running R\n",
        "\n",
        "This is a Python notebook that runs R code. This is done with the first cell below and then by adding the `%%R` command to every cell with R code.\n",
        "\n",
        "### Alternative\n",
        "\n",
        "Open an R notebook in Google Colab by opening a notebook and then changing the runtime type.\n",
        "\n",
        "1. Go to the 'Runtime' menu at the top of the page.\n",
        "2. Select 'Change runtime type'.\n",
        "3. Choose 'R' under 'Runtime type'.\n",
        "4. Click 'Save'.\n",
        "\n",
        "\n",
        "## R as a Calculator\n",
        "\n",
        "Below is a list of some typical operations.\n",
        "\n",
        "| Operator | Description                        |\n",
        "|----------|------------------------------------|\n",
        "| `+`      | Addition                           |\n",
        "| `-`      | Subtraction                        |\n",
        "| `*`      | Multiplication                     |\n",
        "| `/`      | Floating point (normal) division   |\n",
        "| `^`      | Exponentiation                     |\n",
        "\n",
        "We can use parenthesis for readability and to order operations in the usual way."
      ],
      "metadata": {
        "id": "0yRKQXflMDGu"
      }
    },
    {
      "cell_type": "code",
      "source": [
        "!pip install rpy2\n",
        "%load_ext rpy2.ipython"
      ],
      "metadata": {
        "id": "AfW2bnwbQrEw"
      },
      "execution_count": null,
      "outputs": []
    },
    {
      "cell_type": "code",
      "execution_count": 2,
      "metadata": {
        "colab": {
          "base_uri": "https://localhost:8080/"
        },
        "id": "2J8HjtBGLTJ8",
        "outputId": "94a62313-a978-47df-e26e-3abe5a3780a8"
      },
      "outputs": [
        {
          "output_type": "stream",
          "name": "stdout",
          "text": [
            "[1] 8\n"
          ]
        }
      ],
      "source": [
        "%%R\n",
        "2 ^ 3"
      ]
    },
    {
      "cell_type": "code",
      "source": [
        "%%R\n",
        "(1 - 1) * 0"
      ],
      "metadata": {
        "colab": {
          "base_uri": "https://localhost:8080/"
        },
        "id": "EPDI09mtLY8r",
        "outputId": "5a1a1284-0c78-4c0d-ebc9-c7574631a999"
      },
      "execution_count": 3,
      "outputs": [
        {
          "output_type": "stream",
          "name": "stdout",
          "text": [
            "[1] 0\n"
          ]
        }
      ]
    },
    {
      "cell_type": "code",
      "source": [
        "%%R\n",
        "1 - 1 * 0"
      ],
      "metadata": {
        "colab": {
          "base_uri": "https://localhost:8080/"
        },
        "id": "TZ_71jQgLaQM",
        "outputId": "1b85a2a2-270b-4995-e07b-26622b495cd3"
      },
      "execution_count": 4,
      "outputs": [
        {
          "output_type": "stream",
          "name": "stdout",
          "text": [
            "[1] 1\n"
          ]
        }
      ]
    },
    {
      "cell_type": "markdown",
      "source": [
        "# Variables\n",
        "\n",
        "You can assign a value to a variable with `<-`."
      ],
      "metadata": {
        "id": "pvNoI81oNVYQ"
      }
    },
    {
      "cell_type": "code",
      "source": [
        "%%R\n",
        "x <- 0"
      ],
      "metadata": {
        "id": "IoplJlHjNbVR"
      },
      "execution_count": 5,
      "outputs": []
    },
    {
      "cell_type": "code",
      "source": [
        "%%R\n",
        "x <- x + 1\n",
        "\n",
        "x"
      ],
      "metadata": {
        "colab": {
          "base_uri": "https://localhost:8080/"
        },
        "id": "14ZldwPJNdJc",
        "outputId": "420725c7-56a4-4ab8-a876-e3f102667396"
      },
      "execution_count": 6,
      "outputs": [
        {
          "output_type": "stream",
          "name": "stdout",
          "text": [
            "[1] 1\n"
          ]
        }
      ]
    },
    {
      "cell_type": "markdown",
      "source": [
        "# Comments\n",
        "\n",
        "Commenting your code is helpful if you care about your colleagues or your future self. Comments should add clarity to the intention and workings of code. A comment is a piece of code that isn't actually executed-it's a comment left for the reader or the person who inherits and modifies your code.\n",
        "Everything after a `#` will be ignored by R."
      ],
      "metadata": {
        "id": "3aBecdaYNgDb"
      }
    },
    {
      "cell_type": "code",
      "source": [
        "%%R\n",
        "# The + 1000 is ignored because it's commented out.\n",
        "9*10 # + 1000"
      ],
      "metadata": {
        "colab": {
          "base_uri": "https://localhost:8080/"
        },
        "id": "IlcKa8ICNg0z",
        "outputId": "fa52324f-6588-4685-89fb-647dbfe60601"
      },
      "execution_count": 7,
      "outputs": [
        {
          "output_type": "stream",
          "name": "stdout",
          "text": [
            "[1] 90\n"
          ]
        }
      ]
    }
  ]
}