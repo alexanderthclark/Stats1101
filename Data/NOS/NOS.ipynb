{
 "cells": [
  {
   "cell_type": "markdown",
   "id": "c77323f0",
   "metadata": {},
   "source": [
    "# National Organizations Survey (NOS), 1996-1997\n",
    "\n",
    "[Documentation and download](https://www.icpsr.umich.edu/web/ICPSR/studies/3190#)"
   ]
  },
  {
   "cell_type": "code",
   "execution_count": 2,
   "id": "a4caba45",
   "metadata": {
    "scrolled": true
   },
   "outputs": [],
   "source": [
    "#!pip install pyreadstat"
   ]
  },
  {
   "cell_type": "code",
   "execution_count": 3,
   "id": "fe1ff8dd",
   "metadata": {},
   "outputs": [],
   "source": [
    "import pandas as pd\n",
    "import pyreadstat\n",
    "import numpy as np\n",
    "import matplotlib.pyplot as plt"
   ]
  },
  {
   "cell_type": "code",
   "execution_count": 4,
   "id": "34bf659f",
   "metadata": {},
   "outputs": [
    {
     "name": "stdout",
     "output_type": "stream",
     "text": [
      "/Users/alexanderclark/Downloads/ICPSR_03190spss/DS0001\n"
     ]
    }
   ],
   "source": [
    "%cd ~/Downloads/ICPSR_03190spss/DS0001"
   ]
  },
  {
   "cell_type": "code",
   "execution_count": 5,
   "id": "bdbaa70e",
   "metadata": {},
   "outputs": [],
   "source": [
    "df, meta = pyreadstat.read_por('03190-0001-Data.por')\n",
    "# df.to_csv(\"NOS-data.csv\")"
   ]
  },
  {
   "cell_type": "markdown",
   "id": "3544654a",
   "metadata": {},
   "source": [
    "# Relevant Papers\n",
    "\n",
    "[Herring 2009](https://doi.org/10.1177/000312240907400203) <br>\n",
    "[Herring 2017](https://doi.org/10.1177/0003122417716611) <br>\n",
    "[Stojmenovska et al 2017](https://doi.org/10.1177/0003122417714422) & [replication files](https://stojmenovska.com/wp-content/uploads/2017/05/rp_2017_stojmenovska_bol_leopold_ASR.zip)"
   ]
  },
  {
   "cell_type": "code",
   "execution_count": 6,
   "id": "38066f0b",
   "metadata": {},
   "outputs": [],
   "source": [
    "# Columns\n",
    "parity_aid_r = 25 # p 214 Herring 2009\n",
    "parity_aid_g = 46\n",
    "\n",
    "revenue = 'O9'\n",
    "total_ft_employees = 'A7'\n",
    "total_no_ft_female_employees = 'A7A_N'\n",
    "total_pct_ft_female_employees = 'A7A_P'\n",
    "total_no_ft_white_employees = 'A7B_N'\n",
    "total_pct_ft_white_employees = 'A7B_P'"
   ]
  },
  {
   "cell_type": "code",
   "execution_count": 7,
   "id": "e32fd270",
   "metadata": {},
   "outputs": [
    {
     "data": {
      "text/plain": [
       "count    1.002000e+03\n",
       "mean     2.483574e+10\n",
       "std      4.065499e+10\n",
       "min     -9.990000e+02\n",
       "25%     -9.990000e+02\n",
       "50%      1.500000e+06\n",
       "75%      8.888889e+10\n",
       "max      1.000000e+11\n",
       "Name: O9, dtype: float64"
      ]
     },
     "execution_count": 7,
     "metadata": {},
     "output_type": "execute_result"
    }
   ],
   "source": [
    "df[revenue].describe()#value_counts()"
   ]
  },
  {
   "cell_type": "code",
   "execution_count": 13,
   "id": "fd11206c",
   "metadata": {},
   "outputs": [
    {
     "name": "stdout",
     "output_type": "stream",
     "text": [
      "/Users/alexanderclark\n"
     ]
    },
    {
     "name": "stderr",
     "output_type": "stream",
     "text": [
      "/tmp/ipykernel_45369/3681132107.py:25: UserWarning: FixedFormatter should only be used together with FixedLocator\n",
      "  ax.set_xticklabels([f'{i/1_000_000_000:,.0f}B' for i in xticks])\n"
     ]
    },
    {
     "data": {
      "image/png": "[encoded data removed]",
      "text/plain": [
       "<Figure size 640x480 with 1 Axes>"
      ]
     },
     "metadata": {},
     "output_type": "display_data"
    }
   ],
   "source": [
    "# Uncorrected Histogram\n",
    "\n",
    "dk = 88_888_888_888\n",
    "ra = 99_999_999_999\n",
    "upper = 100_000_000_000\n",
    "\n",
    "#d = df[revenue].astype(float)\n",
    "#d = d[d>0]\n",
    "#d = d[d < 8.8*10**10]\n",
    "\n",
    "fig, ax = plt.subplots()\n",
    "b = ( -upper*.125, -1, 0, upper*.125, upper*.25, upper*.375, upper*.5, upper*.625, upper*.75, upper*.875, upper)\n",
    "counts, bin_edges, patches = ax.hist(df[revenue],\n",
    "        ec = 'black',\n",
    "        bins = b)\n",
    "\n",
    "bin_colors = ['gray', 'C0', 'C0', 'C0', 'C0', 'C0', 'C0', 'C0', 'C0', 'gray']\n",
    "# Apply colors to each patch\n",
    "for patch, color in zip(patches, bin_colors):\n",
    "    patch.set_facecolor(color)\n",
    "\n",
    "ax.ticklabel_format(axis='x', useOffset=False)\n",
    "\n",
    "xticks = ax.get_xticks()\n",
    "ax.set_xticklabels([f'{i/1_000_000_000:,.0f}B' for i in xticks])\n",
    "ax.set_title(\"Revenue (NOS data without replacing flag values)\")\n",
    "ax.set_xlabel(\"Revenue (billions)\")\n",
    "\n",
    "plt.tight_layout()\n",
    "%cd ~\n",
    "plt.savefig(\"Documents/GitHub/Stats1101/book/images/nos_histogram.svg\", format = 'svg', transparent = True)\n",
    "plt.show()"
   ]
  },
  {
   "cell_type": "code",
   "execution_count": null,
   "id": "1c5f09c0",
   "metadata": {},
   "outputs": [],
   "source": []
  }
 ],
 "metadata": {
  "kernelspec": {
   "display_name": "Python 3 (ipykernel)",
   "language": "python",
   "name": "python3"
  },
  "language_info": {
   "codemirror_mode": {
    "name": "ipython",
    "version": 3
   },
   "file_extension": ".py",
   "mimetype": "text/x-python",
   "name": "python",
   "nbconvert_exporter": "python",
   "pygments_lexer": "ipython3",
   "version": "3.11.5"
  }
 },
 "nbformat": 4,
 "nbformat_minor": 5
}
