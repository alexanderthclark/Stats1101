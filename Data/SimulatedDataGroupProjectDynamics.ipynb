{
 "cells": [
  {
   "cell_type": "markdown",
   "metadata": {},
   "source": [
    "# Group Project Simulated Data\n",
    "\n",
    "I. Group projects are done in pairs and pairs are formed where people who study more tend to pair with others who study more. The amount of time devoted to the course is given by `study`. \n",
    "\n",
    "II. However, once the pairing is made, one of the partners usually contributes more to the project. One partner contributes 40% of their study time and the other contributes 60% of their study time. \n",
    "\n",
    "With partner1 and partner2 labeling done randomly, there is a slight positive trend in predicting the amount of work done by partner2 from the amount done by partner1. This captures the fact that harder-working students tend to work together (I).\n",
    "\n",
    "When pairs are reordered based on who is the primary contributor, the trend in II is more clear. One partner contributes about 50% more than the other, as evidenced by the regression equation for predicting the primary contribution from the secondary. "
   ]
  },
  {
   "cell_type": "code",
   "execution_count": 37,
   "metadata": {},
   "outputs": [],
   "source": [
    "import pandas as pd\n",
    "import numpy as np\n",
    "import scipy.stats as stats\n",
    "import statwrap\n",
    "%use_all\n",
    "np.random.seed(12)"
   ]
  },
  {
   "cell_type": "code",
   "execution_count": 38,
   "metadata": {},
   "outputs": [],
   "source": [
    "N = 1000\n",
    "n = N//2\n",
    "names = [f'Person{i:0>3.0f}' for i in range(N)]\n",
    "\n",
    "left, right = names[0:n], names[n:]\n",
    "left_work = stats.norm.rvs(12,3, size=n)\n",
    "right_work = stats.norm.rvs(12,3, size=n)"
   ]
  },
  {
   "cell_type": "code",
   "execution_count": 59,
   "metadata": {},
   "outputs": [],
   "source": [
    "# Friendships formed by matching a left to a right\n",
    "# People who work a lot are matched to people who don't work a lot\n",
    "\n",
    "df_left = pd.DataFrame( data = {'Partner1': left, 'study1': left_work})\n",
    "df_right = pd.DataFrame( data = {'Partner2': right, 'study2': right_work})\n",
    "\n",
    "df_left.sort_values('study1', inplace = True, ascending = True)\n",
    "df_right.sort_values('study2', inplace = True, ascending = True)\n",
    "\n",
    "df_left.reset_index(inplace = True, drop = True)\n",
    "df_right.reset_index(inplace = True, drop = True)\n",
    "\n",
    "df = pd.concat([df_left, df_right], axis = 1)"
   ]
  },
  {
   "cell_type": "code",
   "execution_count": 60,
   "metadata": {},
   "outputs": [],
   "source": [
    "balance = .4, .6\n",
    "df['balance'] = np.random.choice(balance, size = n)"
   ]
  },
  {
   "cell_type": "code",
   "execution_count": 61,
   "metadata": {},
   "outputs": [],
   "source": [
    "df['work1'] = df.study1 * df.balance \n",
    "df['work2'] = df.study2 * (1-df.balance)"
   ]
  },
  {
   "cell_type": "code",
   "execution_count": 62,
   "metadata": {},
   "outputs": [
    {
     "data": {
      "text/html": [
       "<div>\n",
       "<style scoped>\n",
       "    .dataframe tbody tr th:only-of-type {\n",
       "        vertical-align: middle;\n",
       "    }\n",
       "\n",
       "    .dataframe tbody tr th {\n",
       "        vertical-align: top;\n",
       "    }\n",
       "\n",
       "    .dataframe thead th {\n",
       "        text-align: right;\n",
       "    }\n",
       "</style>\n",
       "<table border=\"1\" class=\"dataframe\">\n",
       "  <thead>\n",
       "    <tr style=\"text-align: right;\">\n",
       "      <th></th>\n",
       "      <th>Partner1</th>\n",
       "      <th>study1</th>\n",
       "      <th>Partner2</th>\n",
       "      <th>study2</th>\n",
       "      <th>balance</th>\n",
       "      <th>work1</th>\n",
       "      <th>work2</th>\n",
       "    </tr>\n",
       "  </thead>\n",
       "  <tbody>\n",
       "    <tr>\n",
       "      <th>0</th>\n",
       "      <td>Person048</td>\n",
       "      <td>2.557750</td>\n",
       "      <td>Person551</td>\n",
       "      <td>0.867962</td>\n",
       "      <td>0.4</td>\n",
       "      <td>1.023100</td>\n",
       "      <td>0.520777</td>\n",
       "    </tr>\n",
       "    <tr>\n",
       "      <th>1</th>\n",
       "      <td>Person242</td>\n",
       "      <td>2.952254</td>\n",
       "      <td>Person599</td>\n",
       "      <td>2.534959</td>\n",
       "      <td>0.6</td>\n",
       "      <td>1.771352</td>\n",
       "      <td>1.013984</td>\n",
       "    </tr>\n",
       "    <tr>\n",
       "      <th>2</th>\n",
       "      <td>Person142</td>\n",
       "      <td>4.141520</td>\n",
       "      <td>Person775</td>\n",
       "      <td>3.529331</td>\n",
       "      <td>0.6</td>\n",
       "      <td>2.484912</td>\n",
       "      <td>1.411732</td>\n",
       "    </tr>\n",
       "    <tr>\n",
       "      <th>3</th>\n",
       "      <td>Person299</td>\n",
       "      <td>4.185011</td>\n",
       "      <td>Person806</td>\n",
       "      <td>3.615322</td>\n",
       "      <td>0.4</td>\n",
       "      <td>1.674004</td>\n",
       "      <td>2.169193</td>\n",
       "    </tr>\n",
       "    <tr>\n",
       "      <th>4</th>\n",
       "      <td>Person468</td>\n",
       "      <td>4.324286</td>\n",
       "      <td>Person816</td>\n",
       "      <td>4.536020</td>\n",
       "      <td>0.6</td>\n",
       "      <td>2.594572</td>\n",
       "      <td>1.814408</td>\n",
       "    </tr>\n",
       "  </tbody>\n",
       "</table>\n",
       "</div>"
      ],
      "text/plain": [
       "    Partner1    study1   Partner2    study2  balance     work1     work2\n",
       "0  Person048  2.557750  Person551  0.867962      0.4  1.023100  0.520777\n",
       "1  Person242  2.952254  Person599  2.534959      0.6  1.771352  1.013984\n",
       "2  Person142  4.141520  Person775  3.529331      0.6  2.484912  1.411732\n",
       "3  Person299  4.185011  Person806  3.615322      0.4  1.674004  2.169193\n",
       "4  Person468  4.324286  Person816  4.536020      0.6  2.594572  1.814408"
      ]
     },
     "execution_count": 62,
     "metadata": {},
     "output_type": "execute_result"
    }
   ],
   "source": [
    "df.head()"
   ]
  },
  {
   "cell_type": "code",
   "execution_count": 63,
   "metadata": {},
   "outputs": [
    {
     "data": {
      "image/png": "[encoded data removed]",
      "text/plain": [
       "<Figure size 432x288 with 1 Axes>"
      ]
     },
     "metadata": {
      "needs_background": "light"
     },
     "output_type": "display_data"
    }
   ],
   "source": [
    "scatter_plot(df.work1, df.work2)\n",
    "\n",
    "#dfp = df[df.prosociality == 0.2]\n",
    "#scatter_plot(dfp.volunteer2, dfp.volunteer1, xlim=(0,60))"
   ]
  },
  {
   "cell_type": "code",
   "execution_count": 64,
   "metadata": {},
   "outputs": [
    {
     "data": {
      "image/png": "[encoded data removed]",
      "text/plain": [
       "<Figure size 432x288 with 1 Axes>"
      ]
     },
     "metadata": {
      "needs_background": "light"
     },
     "output_type": "display_data"
    }
   ],
   "source": [
    "linest(df.work2, df.work1).plot()"
   ]
  },
  {
   "cell_type": "code",
   "execution_count": 65,
   "metadata": {},
   "outputs": [],
   "source": [
    "#linest(df.volunteer1, df.volunteer2)"
   ]
  },
  {
   "cell_type": "code",
   "execution_count": 66,
   "metadata": {},
   "outputs": [],
   "source": [
    "df['max_work'] = df[['work1','work2']].max(axis = 1)\n",
    "df['min_work'] = df[['work1','work2']].min(axis = 1)"
   ]
  },
  {
   "cell_type": "code",
   "execution_count": 67,
   "metadata": {},
   "outputs": [
    {
     "data": {
      "text/latex": [
       "$\\hat{y} = 0.083 +1.482 x_{1}$"
      ],
      "text/plain": [
       "<statwrap.utils.RegressionLine at 0x1a27197d50>"
      ]
     },
     "execution_count": 67,
     "metadata": {},
     "output_type": "execute_result"
    }
   ],
   "source": [
    "linest(df.max_work, df.min_work)"
   ]
  },
  {
   "cell_type": "code",
   "execution_count": 68,
   "metadata": {},
   "outputs": [
    {
     "data": {
      "text/latex": [
       "$\\hat{y} = 0.032 +0.663 x_{1}$"
      ],
      "text/plain": [
       "<statwrap.utils.RegressionLine at 0x1a271a0090>"
      ]
     },
     "execution_count": 68,
     "metadata": {},
     "output_type": "execute_result"
    }
   ],
   "source": [
    "linest(df.min_work, df.max_work)"
   ]
  },
  {
   "cell_type": "code",
   "execution_count": 69,
   "metadata": {},
   "outputs": [
    {
     "data": {
      "image/png": "[encoded data removed]",
      "text/plain": [
       "<Figure size 432x288 with 1 Axes>"
      ]
     },
     "metadata": {
      "needs_background": "light"
     },
     "output_type": "display_data"
    }
   ],
   "source": [
    "scatter_plot(df.min_work, df.max_work)"
   ]
  }
 ],
 "metadata": {
  "kernelspec": {
   "display_name": "Python 3",
   "language": "python",
   "name": "python3"
  },
  "language_info": {
   "codemirror_mode": {
    "name": "ipython",
    "version": 3
   },
   "file_extension": ".py",
   "mimetype": "text/x-python",
   "name": "python",
   "nbconvert_exporter": "python",
   "pygments_lexer": "ipython3",
   "version": "3.7.6"
  }
 },
 "nbformat": 4,
 "nbformat_minor": 4
}
