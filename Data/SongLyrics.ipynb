{
 "cells": [
  {
   "cell_type": "code",
   "execution_count": 39,
   "id": "b5aa7653",
   "metadata": {},
   "outputs": [
    {
     "name": "stdout",
     "output_type": "stream",
     "text": [
      "Error fetching lyrics for Alan Jackson - Chattahoochee: 404 Client Error: Not Found for url: https://api.lyrics.ovh/v1/Alan%20Jackson/Chattahoochee\n",
      "Error fetching lyrics for Jamey Johnson - In Color: 404 Client Error: Not Found for url: https://api.lyrics.ovh/v1/Jamey%20Johnson/In%20Color\n",
      "Error fetching lyrics for Jamey Johnson - That Lonesome Song: 404 Client Error: Not Found for url: https://api.lyrics.ovh/v1/Jamey%20Johnson/That%20Lonesome%20Song\n",
      "Error fetching lyrics for Toby Keith - Should’ve Been A Cowboy: 404 Client Error: Not Found for url: https://api.lyrics.ovh/v1/Toby%20Keith/Should%E2%80%99ve%20Been%20A%20Cowboy\n",
      "Error fetching lyrics for George Strait - Check Yes Or No: 404 Client Error: Not Found for url: https://api.lyrics.ovh/v1/George%20Strait/Check%20Yes%20Or%20No\n",
      "Error fetching lyrics for Brad Paisley - Whiskey Lullaby: 404 Client Error: Not Found for url: https://api.lyrics.ovh/v1/Brad%20Paisley/Whiskey%20Lullaby\n",
      "Error fetching lyrics for Alan Jackson - It’s Five O'Clock Somewhere: 404 Client Error: Not Found for url: https://api.lyrics.ovh/v1/Alan%20Jackson/It%E2%80%99s%20Five%20O'Clock%20Somewhere\n",
      "Error fetching lyrics for Jamey Johnson - Playing The Part: 404 Client Error: Not Found for url: https://api.lyrics.ovh/v1/Jamey%20Johnson/Playing%20The%20Part\n",
      "Error fetching lyrics for Jason Aldean - She's Country: 404 Client Error: Not Found for url: https://api.lyrics.ovh/v1/Jason%20Aldean/She's%20Country\n",
      "Error fetching lyrics for Kenny Chesney - Get Along: 404 Client Error: Not Found for url: https://api.lyrics.ovh/v1/Kenny%20Chesney/Get%20Along\n",
      "Error fetching lyrics for Jamey Johnson - My Way To You: 404 Client Error: Not Found for url: https://api.lyrics.ovh/v1/Jamey%20Johnson/My%20Way%20To%20You\n",
      "Error fetching lyrics for Luke Bryan - That’s My Kind Of Night: 404 Client Error: Not Found for url: https://api.lyrics.ovh/v1/Luke%20Bryan/That%E2%80%99s%20My%20Kind%20Of%20Night\n",
      "Error fetching lyrics for George Jones - He Stopped Loving Her Today: 404 Client Error: Not Found for url: https://api.lyrics.ovh/v1/George%20Jones/He%20Stopped%20Loving%20Her%20Today\n",
      "Error fetching lyrics for Dierks Bentley - Drunk On A Plane: 404 Client Error: Not Found for url: https://api.lyrics.ovh/v1/Dierks%20Bentley/Drunk%20On%20A%20Plane\n",
      "Error fetching lyrics for Charley Pride - Kiss an Angel Good Mornin’: 404 Client Error: Not Found for url: https://api.lyrics.ovh/v1/Charley%20Pride/Kiss%20an%20Angel%20Good%20Mornin%E2%80%99\n",
      "Error fetching lyrics for Keith Urban - John Cougar, John Deere, John 3:16: 404 Client Error: Not Found for url: https://api.lyrics.ovh/v1/Keith%20Urban/John%20Cougar,%20John%20Deere,%20John%203:16\n",
      "Error fetching lyrics for Rhiannon Giddens - I'm On My Way: 404 Client Error: Not Found for url: https://api.lyrics.ovh/v1/Rhiannon%20Giddens/I'm%20On%20My%20Way\n",
      "Error fetching lyrics for Eric Church - Talladega: 404 Client Error: Not Found for url: https://api.lyrics.ovh/v1/Eric%20Church/Talladega\n",
      "Error fetching lyrics for Hank Williams - I’m So Lonesome I Could Cry: 404 Client Error: Not Found for url: https://api.lyrics.ovh/v1/Hank%20Williams/I%E2%80%99m%20So%20Lonesome%20I%20Could%20Cry\n",
      "Error fetching lyrics for Florida Georgia Line - Cruise: 404 Client Error: Not Found for url: https://api.lyrics.ovh/v1/Florida%20Georgia%20Line/Cruise\n",
      "Error fetching lyrics for Kane Brown - Heaven: 404 Client Error: Not Found for url: https://api.lyrics.ovh/v1/Kane%20Brown/Heaven\n",
      "Error fetching lyrics for Blake Shelton - God's Country: 404 Client Error: Not Found for url: https://api.lyrics.ovh/v1/Blake%20Shelton/God's%20Country\n",
      "Error fetching lyrics for Dan + Shay - Tequila: 404 Client Error: Not Found for url: https://api.lyrics.ovh/v1/Dan%20+%20Shay/Tequila\n"
     ]
    }
   ],
   "source": [
    "import requests\n",
    "import pandas as pd\n",
    "\n",
    "# Code and song list from ChatGPT\n",
    "\n",
    "def fetch_lyrics(artist, title):\n",
    "    url = f\"https://api.lyrics.ovh/v1/{artist}/{title}\"\n",
    "    try:\n",
    "        response = requests.get(url)\n",
    "        response.raise_for_status()  # Raises an HTTPError if the response status code is 4XX/5XX\n",
    "        lyrics_data = response.json()\n",
    "        lyrics = lyrics_data.get('lyrics', '')\n",
    "        # Remove the initial line if it exists\n",
    "        if lyrics.startswith(\"Paroles de la chanson\"):\n",
    "            lyrics = '\\n'.join(lyrics.split('\\n')[1:])  # Skip the first line\n",
    "        return lyrics\n",
    "    except requests.RequestException as e:\n",
    "        print(f\"Error fetching lyrics for {artist} - {title}: {e}\")\n",
    "        return ''\n",
    "\n",
    "# Define your list of songs and artists here\n",
    "songs_and_artists = [\n",
    "    ('Jason Aldean', 'Big Green Tractor'),\n",
    "    ('Luke Bryan', 'Drink A Beer'),\n",
    "    ('Kenny Chesney', 'American Kids'),\n",
    "    ('Toby Keith', 'Red Solo Cup'),\n",
    "    ('Brad Paisley', 'Alcohol'),\n",
    "    ('Eric Church', 'Smoke A Little Smoke'),\n",
    "    ('Alan Jackson', 'Chattahoochee'),\n",
    "    ('George Strait', 'Amarillo By Morning'),\n",
    "    ('Jamey Johnson', 'In Color'),\n",
    "    ('Jason Aldean', 'Dirt Road Anthem'),\n",
    "    ('Luke Bryan', 'Huntin’, Fishin’ And Lovin’ Every Day'),\n",
    "    ('Kenny Chesney', 'Beer In Mexico'),\n",
    "    ('Toby Keith', 'I Love This Bar'),\n",
    "    ('Brad Paisley', 'Mud On The Tires'),\n",
    "    ('Eric Church', 'Drink In My Hand'),\n",
    "    ('Alan Jackson', 'Remember When'),\n",
    "    ('George Strait', 'Give It Away'),\n",
    "    ('Jamey Johnson', 'That Lonesome Song'),\n",
    "    ('Luke Bryan', 'Knockin’ Boots'),\n",
    "    ('Jason Aldean', 'Night Train'),\n",
    "    ('Kenny Chesney', 'Summertime'),\n",
    "    ('Toby Keith', 'Should’ve Been A Cowboy'),\n",
    "    ('Brad Paisley', 'Ticks'),\n",
    "    ('Eric Church', 'Springsteen'),\n",
    "    ('Alan Jackson', 'Country Boy'),\n",
    "    ('George Strait', 'Check Yes Or No'),\n",
    "    ('Jamey Johnson', 'High Cost of Living'),\n",
    "    ('Luke Bryan', 'Country Girl (Shake It For Me)'),\n",
    "    ('Jason Aldean', 'Lights Come On'),\n",
    "    ('Kenny Chesney', 'No Shoes, No Shirt, No Problems'),\n",
    "    ('Toby Keith', 'Beer For My Horses'),\n",
    "    ('Brad Paisley', 'Whiskey Lullaby'),\n",
    "    ('Eric Church', 'Record Year'),\n",
    "    ('Alan Jackson', 'It’s Five O\\'Clock Somewhere'),\n",
    "    ('George Strait', 'Carrying Your Love With Me'),\n",
    "    ('Jamey Johnson', 'Playing The Part'),\n",
    "    ('Jason Aldean', 'She\\'s Country'),\n",
    "    ('Luke Bryan', 'Play It Again'),\n",
    "    ('Kenny Chesney', 'Get Along'),\n",
    "    ('Toby Keith', 'As Good As I Once Was'),\n",
    "    ('Brad Paisley', 'Water'),\n",
    "    ('Eric Church', 'Hell On The Heart'),\n",
    "    ('Alan Jackson', 'Small Town Southern Man'),\n",
    "    ('George Strait', 'The Chair'),\n",
    "    ('Jamey Johnson', 'My Way To You'),\n",
    "    ('Jason Aldean', 'Amarillo Sky'),\n",
    "    ('Luke Bryan', 'That’s My Kind Of Night'),\n",
    "    ('Kenny Chesney', 'All The Pretty Girls'),\n",
    "    ('Toby Keith', 'A Little Too Late'),\n",
    "    ('Brad Paisley', 'Then'),\n",
    "    ('Eric Church', 'Some Of It'),\n",
    "    ('Merle Haggard', 'Okie From Muskogee'),\n",
    "    ('George Jones', 'He Stopped Loving Her Today'),\n",
    "    ('Johnny Cash', 'Folsom Prison Blues'),\n",
    "    ('Waylon Jennings', 'Luckenbach, Texas (Back to the Basics of Love)'),\n",
    "    ('Willie Nelson', 'On The Road Again'),\n",
    "    ('Dierks Bentley', 'Drunk On A Plane'),\n",
    "    ('Chris Stapleton', 'Tennessee Whiskey'),\n",
    "    ('Tim McGraw', 'Truck Yeah'),\n",
    "    ('Charley Pride', 'Kiss an Angel Good Mornin’'),\n",
    "    ('Keith Urban', 'John Cougar, John Deere, John 3:16'),\n",
    "    ('Zac Brown Band', 'Chicken Fried'),\n",
    "    ('Garth Brooks', 'Friends In Low Places'),\n",
    "    ('Miranda Lambert', 'Kerosene'),\n",
    "    ('Alan Jackson', 'Drive (For Daddy Gene)'),\n",
    "    ('Kacey Musgraves', 'Merry Go \\'Round'),\n",
    "    ('Rhiannon Giddens', 'I\\'m On My Way'),\n",
    "    ('Eric Church', 'Talladega'),\n",
    "    ('Brad Paisley', 'This Is Country Music'),\n",
    "    ('Johnny Cash', 'Ring of Fire'),\n",
    "    ('Merle Haggard', 'Mama Tried'),\n",
    "    ('Blanco Brown', 'The Git Up'),\n",
    "    ('Hank Williams', 'I’m So Lonesome I Could Cry'),\n",
    "    ('Jamey Johnson', 'The Dollar'),\n",
    "    ('Florida Georgia Line', 'Cruise'),\n",
    "    ('Brooks & Dunn', 'Boot Scootin’ Boogie'),\n",
    "    ('Luke Combs', 'Beer Never Broke My Heart'),\n",
    "    ('Sam Hunt', 'Body Like A Back Road'),\n",
    "    ('Thomas Rhett', 'Die A Happy Man'),\n",
    "    ('Kane Brown', 'Heaven'),\n",
    "    ('Blake Shelton', 'God\\'s Country'),\n",
    "    ('Carrie Underwood', 'Before He Cheats'),\n",
    "    ('Old Dominion', 'Break Up with Him'),\n",
    "    ('Dan + Shay', 'Tequila'),\n",
    "    ('Darius Rucker', 'Wagon Wheel')\n",
    "]\n",
    "\n",
    "# Fetch lyrics for each song\n",
    "lyrics_list = []\n",
    "for artist, title in songs_and_artists:\n",
    "    lyrics = fetch_lyrics(artist, title)\n",
    "    if lyrics:\n",
    "        lyrics_list.append({'artist': artist, 'title': title, 'lyrics': lyrics})"
   ]
  },
  {
   "cell_type": "code",
   "execution_count": 41,
   "id": "345523cf",
   "metadata": {},
   "outputs": [
    {
     "data": {
      "text/plain": [
       "(62, 3)"
      ]
     },
     "execution_count": 41,
     "metadata": {},
     "output_type": "execute_result"
    }
   ],
   "source": [
    "lyrics_df.shape"
   ]
  },
  {
   "cell_type": "code",
   "execution_count": 47,
   "id": "13fe916e",
   "metadata": {},
   "outputs": [],
   "source": [
    "lyrics_df['lyrics'] = lyrics_df.lyrics.str.strip().str.lower()"
   ]
  },
  {
   "cell_type": "code",
   "execution_count": 48,
   "id": "642129db",
   "metadata": {},
   "outputs": [],
   "source": [
    "lyrics_df.to_clipboard()"
   ]
  },
  {
   "cell_type": "code",
   "execution_count": 59,
   "id": "917c87d3",
   "metadata": {},
   "outputs": [],
   "source": [
    "a = lyrics_df.lyrics.str.contains(\"tractor\")\n",
    "b = lyrics_df.lyrics.str.contains(\"truck\")"
   ]
  },
  {
   "cell_type": "code",
   "execution_count": 60,
   "id": "efb8a275",
   "metadata": {},
   "outputs": [
    {
     "data": {
      "text/plain": [
       "(4, 14)"
      ]
     },
     "execution_count": 60,
     "metadata": {},
     "output_type": "execute_result"
    }
   ],
   "source": [
    "a.sum(), b.sum()"
   ]
  },
  {
   "cell_type": "code",
   "execution_count": 61,
   "id": "c3bde28e",
   "metadata": {},
   "outputs": [
    {
     "data": {
      "text/plain": [
       "2"
      ]
     },
     "execution_count": 61,
     "metadata": {},
     "output_type": "execute_result"
    }
   ],
   "source": [
    "(a & b).sum()"
   ]
  }
 ],
 "metadata": {
  "kernelspec": {
   "display_name": "Python 3 (ipykernel)",
   "language": "python",
   "name": "python3"
  },
  "language_info": {
   "codemirror_mode": {
    "name": "ipython",
    "version": 3
   },
   "file_extension": ".py",
   "mimetype": "text/x-python",
   "name": "python",
   "nbconvert_exporter": "python",
   "pygments_lexer": "ipython3",
   "version": "3.11.5"
  }
 },
 "nbformat": 4,
 "nbformat_minor": 5
}
