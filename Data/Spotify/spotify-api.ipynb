{
 "cells": [
  {
   "cell_type": "code",
   "execution_count": 1,
   "id": "864b1992",
   "metadata": {},
   "outputs": [
    {
     "data": {
      "text/plain": [
       "True"
      ]
     },
     "execution_count": 1,
     "metadata": {},
     "output_type": "execute_result"
    }
   ],
   "source": [
    "import pandas as pd\n",
    "import math\n",
    "import os\n",
    "import pyperclip\n",
    "import spotipy\n",
    "import matplotlib.colors as mcolors\n",
    "import openpyxl\n",
    "import numpy as np\n",
    "\n",
    "from IPython.display import clear_output\n",
    "from spotipy.oauth2 import SpotifyOAuth\n",
    "from dotenv import load_dotenv\n",
    "from openpyxl.styles import PatternFill\n",
    "from openpyxl.styles.differential import DifferentialStyle\n",
    "from openpyxl.formatting import Rule\n",
    "from openpyxl.utils.dataframe import dataframe_to_rows\n",
    "\n",
    "pd.options.display.float_format = '{:,.0f}'.format\n",
    "\n",
    "load_dotenv()"
   ]
  },
  {
   "cell_type": "code",
   "execution_count": 2,
   "id": "efc01765",
   "metadata": {},
   "outputs": [],
   "source": [
    "scope = \"user-library-read\"\n",
    "\n",
    "sp = spotipy.Spotify(auth_manager = SpotifyOAuth(scope = scope,\n",
    "                                                 client_id = os.environ.get(\"spotifyClientId\"),\n",
    "                                                 client_secret = os.environ.get(\"spotifyClientSecret\"),\n",
    "                                                 redirect_uri = 'https://example.com/callback'))"
   ]
  },
  {
   "cell_type": "code",
   "execution_count": 3,
   "id": "fc9bf9bb",
   "metadata": {
    "code_folding": [],
    "scrolled": true
   },
   "outputs": [
    {
     "name": "stdout",
     "output_type": "stream",
     "text": [
      "Enter the URL you were redirected to: https://example.com/callback?code=AQAA5ZXsq6CPQGeTozKXd7ExV2uUnqMZ8yMBFyvr6iNvyzznBiZvgXsLfitBeBDPclyn64wI6DXKcchavcYKmEZ4tGvU_Q_srhHwXui6igbA5AoF6-eY-RS9bZv7NOXaUIj-vnTXrYSGZiYGi71m2_jESlI_w_6fjSdXTyZx261bKnkirV3g-6kW1QcBUwVPVcDI\n"
     ]
    }
   ],
   "source": [
    "# define artists\n",
    "\n",
    "chumbawamba = sp.artist('0TcYeHEK9sBtv7xPbKhzHz')\n",
    "silento = sp.artist('7juKTDFlPesGeWQ1GmjmOv')\n",
    "beatles = sp.artist(\"3WrFJ7ztbogyGnTHbHJFl2\")\n",
    "taylor_swift = sp.artist('06HL4z0CvFAxyc27GXpf02')\n",
    "john_cage = sp.artist('1Z3fF5lZdCM0ZHugkGoH8s')\n",
    "elvis = sp.artist('43ZHCT0cAZBISjO8DG9PnE')\n",
    "garth_brooks = sp.artist('4BclNkZtAUq1YrYNzye3N7')\n",
    "ice_cube = sp.artist('3Mcii5XWf6E0lrY3Uky4cA')\n",
    "beethoven = sp.artist('2wOqMjp9TyABvtHdOSOTUS')\n",
    "harry_styles = sp.artist('6KImCVD70vtIoJWnq6nGn3')\n",
    "lou_bega = sp.artist('46lnlnlU0dXTDpoAUmH6Qx')\n",
    "\n",
    "#clear_output()"
   ]
  },
  {
   "cell_type": "code",
   "execution_count": 4,
   "id": "34545f22",
   "metadata": {},
   "outputs": [],
   "source": [
    "artists = [chumbawamba,\n",
    "           silento,\n",
    "           beatles,\n",
    "           taylor_swift,\n",
    "           john_cage,\n",
    "           elvis,\n",
    "           garth_brooks,\n",
    "           ice_cube,\n",
    "           beethoven,\n",
    "           harry_styles,\n",
    "           lou_bega]"
   ]
  },
  {
   "cell_type": "code",
   "execution_count": 5,
   "id": "87f834f1",
   "metadata": {},
   "outputs": [],
   "source": [
    "def truncate(s: str, char_length: int = 20) -> str:\n",
    "    '''\n",
    "    Truncates a string to char_length and adds `...` to indicate truncation.\n",
    "    Used to make tables more narrow.\n",
    "    '''\n",
    "    return s[0:char_length] + ('...' if len(s) > char_length else '')\n",
    "\n",
    "def make_top_tracks_df(artist: dict) -> pd.DataFrame:\n",
    "    '''\n",
    "    Return DataFrame with top tracks information for an artist.\n",
    "    '''\n",
    "    artist_name = artist['name'].replace(\"Harry\", \"Harold\")\n",
    "    uri = artist['uri']\n",
    "\n",
    "    tmp = pd.DataFrame()\n",
    "    top_tracks = sp.artist_top_tracks(uri)['tracks']\n",
    "    for track in top_tracks:\n",
    "        idx = len(tmp)\n",
    "        tmp.loc[idx, 'artist'] = artist_name\n",
    "        tmp.loc[idx, 'track'] = truncate(track['name'])\n",
    "        tmp.loc[idx, 'song-popularity'] = track['popularity']\n",
    "        tmp.loc[idx, 'album'] = truncate(track['album']['name'], 15)\n",
    "        seconds = track['duration_ms'] / 1000 \n",
    "        minutes = math.floor(seconds / 60)\n",
    "        seconds_remainder = seconds % 60\n",
    "        tmp.loc[idx, 'duration'] = f'{minutes}:{seconds_remainder:0>2.0f}'\n",
    "    \n",
    "    tmp['artist-popularity'] = artist['popularity']\n",
    "    tmp['artist-url'] = artist['external_urls']['spotify']\n",
    "        \n",
    "    return tmp"
   ]
  },
  {
   "cell_type": "code",
   "execution_count": 6,
   "id": "d72eb83a",
   "metadata": {},
   "outputs": [],
   "source": [
    "# make big dataframe\n",
    "combined = pd.DataFrame()\n",
    "combined_tex = pd.DataFrame() \n",
    "for key, artist in enumerate(artists):\n",
    "    \n",
    "    tmp = make_top_tracks_df(artist)\n",
    "    \n",
    "    # drop data for a few artists\n",
    "    if artist['name'] not in ['John Cage', 'Garth Brooks', 'Taylor Swift', 'Ice Cube']:\n",
    "        tmp = tmp.head(4)\n",
    "    \n",
    "    combined = pd.concat([combined, tmp])\n",
    "\n",
    "    tmp['artist-url'] =  r'\\link{' + tmp['artist-url'] + \"}{link}\"\n",
    "    tmp['song-popularity'] = tmp['song-popularity'].astype(int)\n",
    "    tmp = tmp.astype(str)\n",
    "    if key % 2 == 0:\n",
    "        tmp = r'\\cellcolor{gray!7!white}' + tmp.astype(str)\n",
    "\n",
    "    combined_tex = pd.concat([combined_tex, tmp])\n",
    "\n",
    "# Catch special characters\n",
    "combined_tex = combined_tex.replace(\"&\", r\"\\&\", regex = True)\n",
    "\n",
    "# don't truncate \n",
    "with pd.option_context(\"max_colwidth\", 10000):\n",
    "    s = combined_tex.to_latex(escape = False,\n",
    "                              index = None)"
   ]
  },
  {
   "cell_type": "code",
   "execution_count": 7,
   "id": "b79aec22",
   "metadata": {},
   "outputs": [],
   "source": [
    "pyperclip.copy(s)"
   ]
  },
  {
   "cell_type": "raw",
   "id": "1576ffda",
   "metadata": {},
   "source": [
    "with open(\"../../tex/spotify-table.tex\", 'w') as f:\n",
    "    f.write(s)"
   ]
  },
  {
   "cell_type": "raw",
   "id": "7f2895b5",
   "metadata": {},
   "source": [
    "combined.to_csv(\"spotify-data.csv\")"
   ]
  },
  {
   "cell_type": "code",
   "execution_count": 8,
   "id": "70f79209",
   "metadata": {},
   "outputs": [],
   "source": [
    "# make formatted xlsx\n",
    "\n",
    "wb = openpyxl.Workbook()\n",
    "ws = wb.active\n",
    "\n",
    "for r in dataframe_to_rows(combined, index = False, header = True):\n",
    "    if r != [None]:\n",
    "        ws.append(r)\n",
    "        \n",
    "for key, artist in enumerate(combined.artist.unique()):\n",
    "    rgb = 0.3 * np.array(mcolors.to_rgb(f'C{key}')) + 0.7 * np.ones(3)\n",
    "    hex_color = mcolors.to_hex(rgb).lstrip(\"#\")\n",
    "\n",
    "    fill = PatternFill(bgColor = hex_color) #, end_color = hex_color, fill_type = 'solid')\n",
    "    dxf = DifferentialStyle(fill = fill)\n",
    "    rule = Rule(type = \"containsText\",\n",
    "                operator = \"equal\",\n",
    "                text = artist[0:5], \n",
    "                dxf = dxf)\n",
    "    ws.conditional_formatting.add('A1:A100', rule)\n",
    "\n",
    "ws.auto_filter.ref = ws.calculate_dimension() # add filter\n",
    "wb.save(\"spotify-data.xlsx\")"
   ]
  },
  {
   "cell_type": "code",
   "execution_count": null,
   "id": "c3759986",
   "metadata": {},
   "outputs": [],
   "source": []
  }
 ],
 "metadata": {
  "kernelspec": {
   "display_name": "Python 3 (ipykernel)",
   "language": "python",
   "name": "python3"
  },
  "language_info": {
   "codemirror_mode": {
    "name": "ipython",
    "version": 3
   },
   "file_extension": ".py",
   "mimetype": "text/x-python",
   "name": "python",
   "nbconvert_exporter": "python",
   "pygments_lexer": "ipython3",
   "version": "3.11.5"
  }
 },
 "nbformat": 4,
 "nbformat_minor": 5
}
