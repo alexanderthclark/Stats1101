{
 "cells": [
  {
   "cell_type": "code",
   "execution_count": 37,
   "id": "11106a52",
   "metadata": {},
   "outputs": [],
   "source": [
    "import pandas as pd\n",
    "import matplotlib.pyplot as plt\n",
    "import numpy as np\n",
    "import pyperclip"
   ]
  },
  {
   "cell_type": "code",
   "execution_count": 38,
   "id": "ed47da9c",
   "metadata": {},
   "outputs": [],
   "source": [
    "# Data from Health Equity Tracker\n",
    "# https://healthequitytracker.org/datacatalog\n",
    "# CDC Case Surveillance Restricted Access Detailed Data\n",
    "\n",
    "path = 'HET_age_and_state_data.csv'\n",
    "df = pd.read_csv(path)"
   ]
  },
  {
   "cell_type": "code",
   "execution_count": 39,
   "id": "97b96b06",
   "metadata": {},
   "outputs": [],
   "source": [
    "states = ['Vermont', 'Alaska', 'New York']\n",
    "states = ['Maine', 'Vermont', 'Alaska', 'Utah', 'District of Columbia']\n",
    "\n",
    "\n",
    "xx = df[df.state_name.isin(states)]\n",
    "xx = xx[~xx.age.isin(['Unknown', 'All'])]\n",
    "\n",
    "ctab = pd.crosstab(index = xx.age,\n",
    "                   columns = xx.state_name,\n",
    "                  values = xx.covid_population_pct,\n",
    "                  aggfunc = np.sum,\n",
    "                  margins = True)[states].rename(index={\"All\": \"Total\"})"
   ]
  },
  {
   "cell_type": "code",
   "execution_count": 40,
   "id": "422cdcd6",
   "metadata": {},
   "outputs": [],
   "source": [
    "#ctab.style.background_gradient(\"Oranges\", axis = None).format(\"{:.0f}%\")"
   ]
  },
  {
   "cell_type": "code",
   "execution_count": 41,
   "id": "63829f38",
   "metadata": {},
   "outputs": [],
   "source": [
    "# Assuming ctab is your DataFrame\n",
    "# Mask to exclude the row with index 'Total'\n",
    "mask = ctab.index != 'Total'\n",
    "\n",
    "# Apply background_gradient only to rows not masked\n",
    "styled_ctab = ctab.style.apply(lambda x: ['background-color: white' if x.name == 'Total' else '' for i in x], axis=1).background_gradient(\"Oranges\", vmin =0, vmax = 51, axis=None, subset=pd.IndexSlice[mask, :]).format(\"{:.0f}%\")\n",
    "html = styled_ctab.to_html()\n",
    "pyperclip.copy(html)"
   ]
  },
  {
   "cell_type": "code",
   "execution_count": 30,
   "id": "0355cd4c",
   "metadata": {},
   "outputs": [
    {
     "name": "stdout",
     "output_type": "stream",
     "text": [
      "| age   |   Maine |   Vermont |   Alaska |   Utah |   District of Columbia |\n",
      "|:------|--------:|----------:|---------:|-------:|-----------------------:|\n",
      "| 0-9   |    10   |       9.9 |     14.4 |   16.6 |                   11.4 |\n",
      "| 10-19 |    11.4 |      12.2 |     13   |   16.3 |                    9.6 |\n",
      "| 20-29 |    11.6 |      13.3 |     15.8 |   15.9 |                   19.6 |\n",
      "| 30-39 |    11.5 |      11.5 |     14.6 |   14.4 |                   20   |\n",
      "| 40-49 |    12.3 |      11.8 |     11.7 |   11.7 |                   11.8 |\n",
      "| 50-59 |    15.4 |      14.8 |     13.1 |    9.7 |                   10.7 |\n",
      "| 60-69 |    14.6 |      14.2 |     10.7 |    8.4 |                    8.8 |\n",
      "| 70-79 |     8.4 |       8   |      4.6 |    4.6 |                    5.1 |\n",
      "| 80+   |     4.8 |       4.3 |      2   |    2.5 |                    3   |\n",
      "| Total |   100   |     100   |     99.9 |  100.1 |                  100   |\n"
     ]
    }
   ],
   "source": [
    "print(ctab.to_markdown())"
   ]
  },
  {
   "cell_type": "code",
   "execution_count": null,
   "id": "9527e40b",
   "metadata": {},
   "outputs": [],
   "source": []
  }
 ],
 "metadata": {
  "kernelspec": {
   "display_name": "Python 3 (ipykernel)",
   "language": "python",
   "name": "python3"
  },
  "language_info": {
   "codemirror_mode": {
    "name": "ipython",
    "version": 3
   },
   "file_extension": ".py",
   "mimetype": "text/x-python",
   "name": "python",
   "nbconvert_exporter": "python",
   "pygments_lexer": "ipython3",
   "version": "3.11.5"
  }
 },
 "nbformat": 4,
 "nbformat_minor": 5
}
