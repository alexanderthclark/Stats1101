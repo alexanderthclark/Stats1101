{
 "cells": [
  {
   "cell_type": "markdown",
   "id": "301bb56d",
   "metadata": {},
   "source": [
    "## Cezanne and Picasso\n",
    "\n",
    "All data below is from ChatGPT. Inspired by Galenson's work on artistic life cycles.  "
   ]
  },
  {
   "cell_type": "code",
   "execution_count": 1,
   "id": "aa7ed4cf",
   "metadata": {},
   "outputs": [],
   "source": [
    "import pandas as pd\n",
    "import re\n",
    "import matplotlib.pyplot as plt"
   ]
  },
  {
   "cell_type": "code",
   "execution_count": 2,
   "id": "82a793fe",
   "metadata": {},
   "outputs": [],
   "source": [
    "# picasso \n",
    "\n",
    "picasso_str = \"\"\"\n",
    "    \"The Old Guitarist\" (1903) - Age 22\n",
    "    \"Family of Saltimbanques\" (1905) - Age 24\n",
    "    \"Les Demoiselles d'Avignon\" (1907) - Age 26\n",
    "    \"Girl Before a Mirror\" (1932) - Age 51\n",
    "    \"Guernica\" (1937) - Age 56\n",
    "    \"The Weeping Woman\" (1937) - Age 56\n",
    "    \"Massacre in Korea\" (1951) - Age 70\n",
    "    \"Les Femmes d'Alger\" (1955) - Age 74\n",
    "    \"The Three Dancers\" (1925) - Age 44\n",
    "    \"Le Rêve\" (1932) - Age 51\n",
    "    \"Science and Charity\" (1897) - Age 16\n",
    "    \"The Absinthe Drinker\" (1901) - Age 20\n",
    "    \"La Vie\" (1903) - Age 22\n",
    "    \"Boy with a Pipe\" (1905) - Age 24\n",
    "    \"Portrait of Gertrude Stein\" (1906) - Age 25\n",
    "    \"Self Portrait\" (1907) - Age 26\n",
    "    \"Bread and Fruit Dish on a Table\" (1909) - Age 28\n",
    "    \"Girl with a Mandolin\" (1910) - Age 29\n",
    "    \"Accordionist\" (1911) - Age 30\n",
    "    \"Violin and Candlestick\" (1910) - Age 29\n",
    "    \"Ma Jolie\" (1911-1912) - Age 30-31\n",
    "    \"The Blue Room\" (1901) - Age 20\n",
    "    \"The Soup\" (1902) - Age 21\n",
    "    \"La Gommeuse\" (1901) - Age 20\n",
    "    \"Woman Ironing\" (1904) - Age 23\n",
    "    \"The Actor\" (1904) - Age 23\n",
    "    \"Lady with a Fan\" (1905) - Age 24\n",
    "    \"Garçon à la pipe\" (1905) - Age 24\n",
    "    \"At the Lapin Agile\" (1905) - Age 24\n",
    "    \"Portrait of Ambroise Vollard\" (1910) - Age 29\n",
    "    \"Portrait of Daniel-Henry Kahnweiler\" (1910) - Age 29\n",
    "    \"Still Life with Chair Caning\" (1912) - Age 31\n",
    "    \"Sitzende Frau\" (1917) - Age 36\n",
    "    \"Three Women at the Spring\" (1921) - Age 40\n",
    "    \"The Pipes of Pan\" (1923) - Age 42\n",
    "    \"Two Women Running on the Beach\" (1922) - Age 41\n",
    "    \"Paul as Harlequin\" (1924) - Age 43\n",
    "    \"Three Musicians\" (1921) - Age 40\n",
    "    \"The Dance\" (1925) - Age 44\n",
    "    \"The Kiss\" (1925) - Age 44\n",
    "    \"Woman in a Red Armchair\" (1929) - Age 48\n",
    "    \"Nude, Green Leaves and Bust\" (1932) - Age 51\n",
    "    \"Nude in a Black Armchair\" (1932) - Age 51\n",
    "    \"The Dream and Lie of Franco\" (1937) - Age 56\n",
    "    \"Night Fishing at Antibes\" (1939) - Age 58\n",
    "    \"Dora Maar au Chat\" (1941) - Age 60\n",
    "    \"The Charnel House\" (1944-1945) - Age 63-64\n",
    "    \"Françoise Gilot\" (1946) - Age 65\n",
    "    \"The Painter and His Model\" (1963) - Age 82\n",
    "    \"Self-Portrait Facing Death\" (1972) - Age 91\n",
    "\"\"\""
   ]
  },
  {
   "cell_type": "code",
   "execution_count": 4,
   "id": "ffeb444f",
   "metadata": {},
   "outputs": [],
   "source": [
    "cezanne_str = \"\"\"\n",
    "    \"House of the Hanged Man\" (1873) - Age 34\n",
    "    \"A Modern Olympia\" (1873-1874) - Age 34-35\n",
    "    \"The Black Marble Clock\" (1869-1871) - Age 30-32\n",
    "    \"The Bathers\" (small) (1874-1875) - Age 35-36\n",
    "    \"Mont Sainte-Victoire\" (1885-1887) - Age 46-48\n",
    "    \"Still Life with Soup Tureen\" (1877) - Age 38\n",
    "    \"Boy in a Red Vest\" (1888-1890) - Age 49-51\n",
    "    \"The Basket of Apples\" (1893) - Age 54\n",
    "    \"The Card Players\" (1890-1895) - Age 51-56\n",
    "    \"Still Life with Cherries and Peaches\" (1885-1887) - Age 46-48\n",
    "    \"L'Estaque, Melting Snow\" (1871) - Age 32\n",
    "    \"Pyramid of Skulls\" (1901) - Age 62\n",
    "    \"Turn in the Road\" (1881) - Age 42\n",
    "    \"Still Life with Apples\" (1893-1894) - Age 54-55\n",
    "    \"The Bay of Marseilles, Seen from L'Estaque\" (1885) - Age 46\n",
    "    \"Portrait of Uncle Dominique\" (1866) - Age 27\n",
    "    \"Château Noir\" (1900-1904) - Age 61-65\n",
    "    \"The Large Bathers\" (1898-1905) - Age 59-66\n",
    "    \"Madame Cézanne in a Red Armchair\" (1877) - Age 38\n",
    "    \"Mont Sainte-Victoire Seen from Bellevue\" (1890-1895) - Age 51-56\n",
    "    \"The Great Pine\" (1895-1897) - Age 56-58\n",
    "    \"Still Life with Plaster Cupid\" (1895) - Age 56\n",
    "    \"The House with the Cracked Walls\" (1892-1894) - Age 53-55\n",
    "    \"The Red Rock\" (1895-1900) - Age 56-61\n",
    "    \"Madame Cézanne in a Yellow Chair\" (1888-1890) - Age 49-51\n",
    "    \"The Smoker\" (1890-1892) - Age 51-53\n",
    "    \"The Gardener Vallier\" (1902-1906) - Age 63-67\n",
    "    \"Jas de Bouffan\" (1874) - Age 35\n",
    "    \"The Eternal Feminine\" (1877) - Age 38\n",
    "    \"Self-Portrait\" (1875) - Age 36\n",
    "    \"Still Life with Curtain and Flowered Pitcher\" (1895) - Age 56\n",
    "    \"The Pond\" (1877-1879) - Age 38-40\n",
    "    \"Portrait of Victor Chocquet\" (1877) - Age 38\n",
    "    \"Bathers\" (1874-1875) - Age 35-36\n",
    "    \"The Sea at L'Estaque behind Trees\" (1878-1879) - Age 39-40\n",
    "    \"Chestnut Trees at Jas de Bouffan\" (1885-1887) - Age 46-48\n",
    "    \"Mont Sainte-Victoire and the Viaduct of the Arc River Valley\" (1885) - Age 46\n",
    "    \"The Green Apple\" (1873) - Age 34\n",
    "    \"Still Life with a Ginger Jar and Eggplants\" (1893-1894) - Age 54-55\n",
    "    \"The Blue Vase\" (1889-1890) - Age 50-51\n",
    "    \"Sugar Bowl, Pears, and Blue Cup\" (1865-1877) - Age 26-38\n",
    "    \"The Overture to Tannhauser\" (1869) - Age 30\n",
    "    \"The Negro Scipio\" (1867) - Age 28\n",
    "    \"The Hanged Man's House\" (1873) - Age 34\n",
    "    \"The Gulf of Marseilles Seen from L'Estaque\" (1885) - Age 46\n",
    "    \"View of Auvers-sur-Oise\" (1873-1875) - Age 34-36\n",
    "    \"The Bibémus Quarry\" (1898-1900) - Age 59-61\n",
    "    \"Curtain, Jug, and Fruit Bowl\" (1893-1894) - Age 54-55\n",
    "    \"The Bridge at Maincy\" (1879-1880) - Age 40-41\n",
    "    \"Landscape with Watermill\" (1890-1892) - Age 51-53\n",
    "\"\"\""
   ]
  },
  {
   "cell_type": "code",
   "execution_count": 7,
   "id": "b06baf63",
   "metadata": {},
   "outputs": [],
   "source": [
    "combined = picasso_str.strip() + \"\\n\" + cezanne_str.strip()\n",
    "df = pd.DataFrame()\n",
    "\n",
    "cols = ['age', 'year', 'artist']\n",
    "for line in combined.splitlines():\n",
    "        \n",
    "    artist = 'Picasso' if line in picasso_str else 'Cezanne'\n",
    "    name = line.split(\"\\\"\")[1]\n",
    "    year = line.split(\")\")[0][-4:]\n",
    "    age = line[-2:]\n",
    "    df.loc[name, cols] = [age, year, artist]"
   ]
  },
  {
   "cell_type": "code",
   "execution_count": 9,
   "id": "3c07c140",
   "metadata": {},
   "outputs": [],
   "source": [
    "df.to_csv(\"picasso_and_cezanne.csv\")"
   ]
  },
  {
   "cell_type": "code",
   "execution_count": 8,
   "id": "ed2b0044",
   "metadata": {},
   "outputs": [],
   "source": [
    "p = df.query(\"artist=='Picasso'\").age.astype(int)\n",
    "c = df.query(\"artist=='Cezanne'\").age.astype(int)"
   ]
  },
  {
   "cell_type": "code",
   "execution_count": 17,
   "id": "a11570f2",
   "metadata": {},
   "outputs": [
    {
     "name": "stderr",
     "output_type": "stream",
     "text": [
      "No artists with labels found to put in legend.  Note that artists whose label start with an underscore are ignored when legend() is called with no argument.\n"
     ]
    },
    {
     "data": {
      "image/png": "[encoded data removed]",
      "text/plain": [
       "<Figure size 640x480 with 1 Axes>"
      ]
     },
     "metadata": {},
     "output_type": "display_data"
    }
   ],
   "source": [
    "bins = range(15, 101, 10)\n",
    "plt.hist(df.age.astype(int),\n",
    "        fc = 'darkgray',\n",
    "        ec = 'black')\n",
    "plt.xticks(bins)\n",
    "plt.yticks([])\n",
    "\n",
    "plt.xlabel(\"Age at Completion\")\n",
    "plt.legend()\n",
    "plt.title(\"Artistic Life Cycles\")\n",
    "plt.tight_layout()\n",
    "plt.savefig(\"../../book/images/picasso_and_cezanne_combined.svg\", format = 'svg', transparent = True)\n",
    "plt.show()"
   ]
  },
  {
   "cell_type": "code",
   "execution_count": 18,
   "id": "81f1a3c7",
   "metadata": {},
   "outputs": [
    {
     "data": {
      "image/png": "[encoded data removed]",
      "text/plain": [
       "<Figure size 640x480 with 1 Axes>"
      ]
     },
     "metadata": {},
     "output_type": "display_data"
    }
   ],
   "source": [
    "bins = range(15, 101, 10)\n",
    "plt.hist(p, #[p,c],\n",
    "        bins = bins,\n",
    "        density = True,\n",
    "        histtype = 'step',\n",
    "        lw = 3,\n",
    "        ls = 'solid',\n",
    "        label = 'Picasso')\n",
    "plt.hist(c, #[p,c],\n",
    "        bins = bins,\n",
    "        density = True,\n",
    "        histtype = 'step',\n",
    "        lw = 3,\n",
    "        ls = 'dashed',\n",
    "        label = 'Cezanne')\n",
    "plt.xticks(bins)\n",
    "plt.yticks([])\n",
    "\n",
    "plt.xlabel(\"Age at Completion\")\n",
    "plt.legend()\n",
    "plt.title(\"Artistic Life Cycles\")\n",
    "plt.tight_layout()\n",
    "plt.savefig(\"../../book/images/picasso_and_cezanne.svg\", format = 'svg', transparent = True)\n",
    "plt.show()"
   ]
  },
  {
   "cell_type": "code",
   "execution_count": null,
   "id": "fad22db9",
   "metadata": {},
   "outputs": [],
   "source": []
  }
 ],
 "metadata": {
  "kernelspec": {
   "display_name": "Python 3 (ipykernel)",
   "language": "python",
   "name": "python3"
  },
  "language_info": {
   "codemirror_mode": {
    "name": "ipython",
    "version": 3
   },
   "file_extension": ".py",
   "mimetype": "text/x-python",
   "name": "python",
   "nbconvert_exporter": "python",
   "pygments_lexer": "ipython3",
   "version": "3.11.5"
  }
 },
 "nbformat": 4,
 "nbformat_minor": 5
}
