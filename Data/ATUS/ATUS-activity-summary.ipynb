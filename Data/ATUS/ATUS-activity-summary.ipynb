{
 "cells": [
  {
   "cell_type": "markdown",
   "id": "5f8970e4",
   "metadata": {},
   "source": [
    "# American Time Use Survey\n",
    "\n",
    "[Data and documentation](https://www.bls.gov/tus/data.htm)"
   ]
  },
  {
   "cell_type": "code",
   "execution_count": null,
   "id": "09d05a4d",
   "metadata": {},
   "outputs": [],
   "source": [
    "import pandas as pd\n",
    "import numpy as np\n",
    "import requests\n",
    "import io\n",
    "import matplotlib.pyplot as plt\n",
    "from dateutil.parser import parse\n",
    "import datetime as dt\n",
    "from zipfile import ZipFile\n",
    "import os"
   ]
  },
  {
   "cell_type": "code",
   "execution_count": null,
   "id": "6a2af5ef",
   "metadata": {},
   "outputs": [],
   "source": [
    "files = ['sum','resp'] # [\"resp\", \"rost\", \"sum\", \"act\", \"cps\", \"who\"]\n",
    "\n",
    "ATUS = dict()\n",
    "\n",
    "# multiyear data\n",
    "# Zip files have URLs like https://www.bls.gov/tus/datafiles/atusrost-0322.zip\n",
    "# Above pattern can change year to year. Update accordingly.\n",
    "\n",
    "base_url = 'https://www.bls.gov/tus/datafiles/atus'\n",
    "ending = f'-03{(dt.date.today() - dt.timedelta(days = 399)).strftime(\"%y\")}.zip'\n",
    "\n",
    "\n",
    "# Download data, read to pandas, and delete local files\n",
    "for file in files:\n",
    "    url = f'{base_url}{file}{ending}'\n",
    "    r = requests.get(url)\n",
    "    \n",
    "    # Try to get data directly from web \n",
    "    try:\n",
    "        # this doesn't work Aug '23 because BLS blocks bots\n",
    "        z = ZipFile(io.BytesIO(r.content))\n",
    "        z.extractall()\n",
    "        ATUS[file] = pd.read_csv(z.open(ending))\n",
    "    \n",
    "    # Download files locally then delete\n",
    "    except:\n",
    "        print(url, 'click to download')\n",
    "        input('Confirm Download')\n",
    "        \n",
    "        os.system(f'cp ~/Downloads/atus{file}{ending} {os.getcwd()}')\n",
    "        with ZipFile(f'atus{file}{ending}', 'r') as z:\n",
    "            z.extractall()\n",
    "            dat = ending.replace(\".zip\",'.dat').replace(\"-\",'_')\n",
    "            ATUS[file] = pd.read_csv(z.open(f'atus{file}{dat}'))\n",
    "            \n",
    "            # delete files\n",
    "            files = !ls\n",
    "            for f in files:\n",
    "                if f.startswith(f'atus{file}') or f.endswith(\"_info.txt\"):\n",
    "                    os.system(f\"rm {f}\")"
   ]
  },
  {
   "cell_type": "code",
   "execution_count": null,
   "id": "ef947f4e",
   "metadata": {},
   "outputs": [],
   "source": [
    "dfs = ATUS['sum']\n"
   ]
  },
  {
   "cell_type": "markdown",
   "id": "dc8ee8bd",
   "metadata": {},
   "source": [
    "# Sample from each year"
   ]
  },
  {
   "cell_type": "code",
   "execution_count": null,
   "id": "b8f9059b",
   "metadata": {},
   "outputs": [],
   "source": [
    "df_sample = pd.DataFrame()\n",
    "\n",
    "for year in range(2003, 2023):\n",
    "    \n",
    "    condition = dfs.TUCASEID.astype(str).str[0:4] == str(year)\n",
    "    \n",
    "    small = dfs[condition].sample(n = 200)\n",
    "    \n",
    "    df_sample = pd.concat([df_sample, small])"
   ]
  },
  {
   "cell_type": "code",
   "execution_count": null,
   "id": "9a1760c9",
   "metadata": {},
   "outputs": [],
   "source": [
    "%cd ~/Stats1101e/Histograms"
   ]
  },
  {
   "cell_type": "markdown",
   "id": "210100f2",
   "metadata": {},
   "source": [
    "# Make a lot of histograms"
   ]
  },
  {
   "cell_type": "code",
   "execution_count": null,
   "id": "2d21eff1",
   "metadata": {},
   "outputs": [],
   "source": [
    "sleep = df_sample.t010101 / 60\n",
    "\n",
    "nums = np.linspace(0, sleep.max(), 100)\n",
    "\n",
    "n = 50\n",
    "for i in range(n):\n",
    "    \n",
    "    if i < 50/3:\n",
    "        size = 10\n",
    "    elif i < 50*.66:\n",
    "        size = 25\n",
    "    else:\n",
    "        size = 50\n",
    "    \n",
    "    intervals = np.sort(np.random.choice(nums, size = size, replace = False))\n",
    "    \n",
    "    intervals = [0] + list(intervals) + [sleep.max()]\n",
    "    \n",
    "    plt.hist(sleep, \n",
    "             bins = intervals,\n",
    "            ec = 'black',\n",
    "            density = True)\n",
    "    plt.yticks([])\n",
    "    \n",
    "    plt.gcf().set_size_inches(4,3)\n",
    "    plt.xlabel(\"Hours of Sleep\")\n",
    "    plt.tight_layout()\n",
    "    plt.savefig(f\"hist{i:.0f}.pdf\")\n",
    "    \n",
    "    \n",
    "    plt.show()"
   ]
  },
  {
   "cell_type": "code",
   "execution_count": null,
   "id": "111bf803",
   "metadata": {},
   "outputs": [],
   "source": [
    "df_sample.to_csv(\"ATUS_summary_sample.csv\")"
   ]
  },
  {
   "cell_type": "code",
   "execution_count": null,
   "id": "7099f1f3",
   "metadata": {},
   "outputs": [],
   "source": [
    "sleeping = ATUS['sum'].t010101/60 #.hist(bins = 1400)\n",
    "sleeping = sleeping[sleeping > 7]\n",
    "sleeping = sleeping[sleeping < 9]\n",
    "\n",
    "sleeping.hist(bins = 121)\n",
    "plt.gca().set_yticks([])\n",
    "plt.xlabel(\"Hours of Sleep\")\n",
    "plt.tight_layout()\n",
    "plt.savefig(\"hist_sleep_small_bins.pdf\")"
   ]
  },
  {
   "cell_type": "code",
   "execution_count": null,
   "id": "04b82958",
   "metadata": {},
   "outputs": [],
   "source": []
  }
 ],
 "metadata": {
  "kernelspec": {
   "display_name": "Python 3 (ipykernel)",
   "language": "python",
   "name": "python3"
  },
  "language_info": {
   "codemirror_mode": {
    "name": "ipython",
    "version": 3
   },
   "file_extension": ".py",
   "mimetype": "text/x-python",
   "name": "python",
   "nbconvert_exporter": "python",
   "pygments_lexer": "ipython3",
   "version": "3.11.5"
  }
 },
 "nbformat": 4,
 "nbformat_minor": 5
}
