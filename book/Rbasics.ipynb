{
  "nbformat": 4,
  "nbformat_minor": 0,
  "metadata": {
    "colab": {
      "provenance": [],
      "authorship_tag": "ABX9TyNmxApaUMpRemXk3jIyqLFn",
      "include_colab_link": true
    },
    "kernelspec": {
      "name": "ir",
      "display_name": "R"
    },
    "language_info": {
      "name": "R"
    }
  },
  "cells": [
    {
      "cell_type": "markdown",
      "metadata": {
        "id": "view-in-github",
        "colab_type": "text"
      },
      "source": [
        "<a href=\"https://colab.research.google.com/github/alexanderthclark/Stats1101/blob/main/book/Rbasics.ipynb\" target=\"_parent\"><img src=\"https://colab.research.google.com/assets/colab-badge.svg\" alt=\"Open In Colab\"/></a>"
      ]
    },
    {
      "cell_type": "markdown",
      "source": [
        "# R\n",
        "\n",
        "Open an R notebook in Google Colab by opening a notebook and then changing the runtime type.\n",
        "\n",
        "1. Go to the 'Runtime' menu at the top of the page.\n",
        "2. Select 'Change runtime type'.\n",
        "3. Choose 'R' under 'Runtime type'.\n",
        "4. Click 'Save'.\n",
        "\n",
        "R is not popular in industry. It's more popular in academia, and I'll occasionally find myself leaving Python to use R if I need to do something more advanced.\n",
        "\n",
        "## R as a Calculator\n",
        "\n",
        "Below is a list of some typical operations.\n",
        "\n",
        "| Operator | Description                        |\n",
        "|----------|------------------------------------|\n",
        "| `+`      | Addition                           |\n",
        "| `-`      | Subtraction                        |\n",
        "| `*`      | Multiplication                     |\n",
        "| `/`      | Floating point (normal) division   |\n",
        "| `^`      | Exponentiation                     |\n",
        "\n",
        "We can use parenthesis for readability and to order operations in the usual way."
      ],
      "metadata": {
        "id": "0yRKQXflMDGu"
      }
    },
    {
      "cell_type": "code",
      "execution_count": 5,
      "metadata": {
        "colab": {
          "base_uri": "https://localhost:8080/",
          "height": 34
        },
        "id": "2J8HjtBGLTJ8",
        "outputId": "d6f3b7b6-03f2-4a00-c7e6-78fb03305089"
      },
      "outputs": [
        {
          "output_type": "display_data",
          "data": {
            "text/html": [
              "8"
            ],
            "text/markdown": "8",
            "text/latex": "8",
            "text/plain": [
              "[1] 8"
            ]
          },
          "metadata": {}
        }
      ],
      "source": [
        "2 ^ 3"
      ]
    },
    {
      "cell_type": "code",
      "source": [
        "(1 - 1) * 0"
      ],
      "metadata": {
        "colab": {
          "base_uri": "https://localhost:8080/",
          "height": 34
        },
        "id": "EPDI09mtLY8r",
        "outputId": "ab944374-478e-45c0-c7e8-d4ef6af43df5"
      },
      "execution_count": 6,
      "outputs": [
        {
          "output_type": "display_data",
          "data": {
            "text/html": [
              "0"
            ],
            "text/markdown": "0",
            "text/latex": "0",
            "text/plain": [
              "[1] 0"
            ]
          },
          "metadata": {}
        }
      ]
    },
    {
      "cell_type": "code",
      "source": [
        "1 - 1 * 0"
      ],
      "metadata": {
        "colab": {
          "base_uri": "https://localhost:8080/",
          "height": 34
        },
        "id": "TZ_71jQgLaQM",
        "outputId": "1f28d0d8-4af3-4f5f-f714-e49e1e3f5fb1"
      },
      "execution_count": 7,
      "outputs": [
        {
          "output_type": "display_data",
          "data": {
            "text/html": [
              "1"
            ],
            "text/markdown": "1",
            "text/latex": "1",
            "text/plain": [
              "[1] 1"
            ]
          },
          "metadata": {}
        }
      ]
    },
    {
      "cell_type": "markdown",
      "source": [
        "# Variables\n",
        "\n",
        "You can assign a value to a variable with `<-`."
      ],
      "metadata": {
        "id": "pvNoI81oNVYQ"
      }
    },
    {
      "cell_type": "code",
      "source": [
        "x <- 0"
      ],
      "metadata": {
        "id": "IoplJlHjNbVR"
      },
      "execution_count": 8,
      "outputs": []
    },
    {
      "cell_type": "code",
      "source": [
        "x <- x + 1\n",
        "\n",
        "x"
      ],
      "metadata": {
        "colab": {
          "base_uri": "https://localhost:8080/",
          "height": 34
        },
        "id": "14ZldwPJNdJc",
        "outputId": "ff72fd93-4143-42d8-b137-c520c7138b57"
      },
      "execution_count": 9,
      "outputs": [
        {
          "output_type": "display_data",
          "data": {
            "text/html": [
              "1"
            ],
            "text/markdown": "1",
            "text/latex": "1",
            "text/plain": [
              "[1] 1"
            ]
          },
          "metadata": {}
        }
      ]
    },
    {
      "cell_type": "markdown",
      "source": [
        "# Comments\n",
        "\n",
        "Commenting your code is helpful if you care about your colleagues or your future self. Comments should add clarity to the intention and workings of code. A comment is a piece of code that isn't actually executed-it's a comment left for the reader or the person who inherits and modifies your code.\n",
        "Everything after a `#` will be ignored by R."
      ],
      "metadata": {
        "id": "3aBecdaYNgDb"
      }
    },
    {
      "cell_type": "code",
      "source": [
        "# The + 1000 is ignored because it's commented out.\n",
        "9*10 # + 1000"
      ],
      "metadata": {
        "colab": {
          "base_uri": "https://localhost:8080/",
          "height": 34
        },
        "id": "IlcKa8ICNg0z",
        "outputId": "76d04f2c-7cc6-4eb9-b7bb-579df08b711b"
      },
      "execution_count": 11,
      "outputs": [
        {
          "output_type": "display_data",
          "data": {
            "text/html": [
              "90"
            ],
            "text/markdown": "90",
            "text/latex": "90",
            "text/plain": [
              "[1] 90"
            ]
          },
          "metadata": {}
        }
      ]
    }
  ]
}