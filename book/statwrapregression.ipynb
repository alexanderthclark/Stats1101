{
 "cells": [
  {
   "cell_type": "markdown",
   "id": "a4d74f0d",
   "metadata": {},
   "source": [
    "# Regression\n",
    "\n",
    "This is a series of basic examples for running linear regression with StatWrap. It's more typical to use a package like sklearn or statsmodels for regression, but StatWrap is written to imitate Google Sheets/Excel. \n",
    "\n",
    "## Imports\n",
    "\n",
    "Run the typical three starter lines in a Google Colab (suggested) or Jupyter notebook. "
   ]
  },
  {
   "cell_type": "code",
   "execution_count": 1,
   "id": "15bcbffc",
   "metadata": {
    "scrolled": true,
    "tags": [
     "remove-output"
    ]
   },
   "outputs": [
    {
     "name": "stdout",
     "output_type": "stream",
     "text": [
      "Requirement already satisfied: statwrap in /Users/alexanderclark/Documents/GitHub/statwrap (0.2.13)\n",
      "Collecting statwrap\n",
      "  Obtaining dependency information for statwrap from https://files.pythonhosted.org/packages/27/94/a4742d0e596e1c3bb6adb9affd78738a77eb45705c961f702dcfc9ebd00f/StatWrap-0.2.14-py3-none-any.whl.metadata\n",
      "  Downloading StatWrap-0.2.14-py3-none-any.whl.metadata (2.2 kB)\n",
      "Requirement already satisfied: pandas in /Users/alexanderclark/anaconda3/lib/python3.11/site-packages (from statwrap) (2.0.3)\n",
      "Requirement already satisfied: numpy in /Users/alexanderclark/anaconda3/lib/python3.11/site-packages (from statwrap) (1.24.3)\n",
      "Requirement already satisfied: scipy in /Users/alexanderclark/anaconda3/lib/python3.11/site-packages (from statwrap) (1.11.1)\n",
      "Requirement already satisfied: IPython in /Users/alexanderclark/anaconda3/lib/python3.11/site-packages (from statwrap) (8.15.0)\n",
      "Requirement already satisfied: matplotlib in /Users/alexanderclark/anaconda3/lib/python3.11/site-packages (from statwrap) (3.7.2)\n",
      "Requirement already satisfied: backcall in /Users/alexanderclark/anaconda3/lib/python3.11/site-packages (from IPython->statwrap) (0.2.0)\n",
      "Requirement already satisfied: decorator in /Users/alexanderclark/anaconda3/lib/python3.11/site-packages (from IPython->statwrap) (5.1.1)\n",
      "Requirement already satisfied: jedi>=0.16 in /Users/alexanderclark/anaconda3/lib/python3.11/site-packages (from IPython->statwrap) (0.18.1)\n",
      "Requirement already satisfied: matplotlib-inline in /Users/alexanderclark/anaconda3/lib/python3.11/site-packages (from IPython->statwrap) (0.1.6)\n",
      "Requirement already satisfied: pickleshare in /Users/alexanderclark/anaconda3/lib/python3.11/site-packages (from IPython->statwrap) (0.7.5)\n",
      "Requirement already satisfied: prompt-toolkit!=3.0.37,<3.1.0,>=3.0.30 in /Users/alexanderclark/anaconda3/lib/python3.11/site-packages (from IPython->statwrap) (3.0.36)\n",
      "Requirement already satisfied: pygments>=2.4.0 in /Users/alexanderclark/anaconda3/lib/python3.11/site-packages (from IPython->statwrap) (2.15.1)\n",
      "Requirement already satisfied: stack-data in /Users/alexanderclark/anaconda3/lib/python3.11/site-packages (from IPython->statwrap) (0.2.0)\n",
      "Requirement already satisfied: traitlets>=5 in /Users/alexanderclark/anaconda3/lib/python3.11/site-packages (from IPython->statwrap) (5.7.1)\n",
      "Requirement already satisfied: pexpect>4.3 in /Users/alexanderclark/anaconda3/lib/python3.11/site-packages (from IPython->statwrap) (4.8.0)\n",
      "Requirement already satisfied: appnope in /Users/alexanderclark/anaconda3/lib/python3.11/site-packages (from IPython->statwrap) (0.1.2)\n",
      "Requirement already satisfied: contourpy>=1.0.1 in /Users/alexanderclark/anaconda3/lib/python3.11/site-packages (from matplotlib->statwrap) (1.0.5)\n",
      "Requirement already satisfied: cycler>=0.10 in /Users/alexanderclark/anaconda3/lib/python3.11/site-packages (from matplotlib->statwrap) (0.11.0)\n",
      "Requirement already satisfied: fonttools>=4.22.0 in /Users/alexanderclark/anaconda3/lib/python3.11/site-packages (from matplotlib->statwrap) (4.25.0)\n",
      "Requirement already satisfied: kiwisolver>=1.0.1 in /Users/alexanderclark/anaconda3/lib/python3.11/site-packages (from matplotlib->statwrap) (1.4.4)\n",
      "Requirement already satisfied: packaging>=20.0 in /Users/alexanderclark/anaconda3/lib/python3.11/site-packages (from matplotlib->statwrap) (23.1)\n",
      "Requirement already satisfied: pillow>=6.2.0 in /Users/alexanderclark/anaconda3/lib/python3.11/site-packages (from matplotlib->statwrap) (10.0.1)\n",
      "Requirement already satisfied: pyparsing<3.1,>=2.3.1 in /Users/alexanderclark/anaconda3/lib/python3.11/site-packages (from matplotlib->statwrap) (3.0.9)\n",
      "Requirement already satisfied: python-dateutil>=2.7 in /Users/alexanderclark/anaconda3/lib/python3.11/site-packages (from matplotlib->statwrap) (2.8.2)\n",
      "Requirement already satisfied: pytz>=2020.1 in /Users/alexanderclark/anaconda3/lib/python3.11/site-packages (from pandas->statwrap) (2023.3.post1)\n",
      "Requirement already satisfied: tzdata>=2022.1 in /Users/alexanderclark/anaconda3/lib/python3.11/site-packages (from pandas->statwrap) (2023.3)\n",
      "Requirement already satisfied: parso<0.9.0,>=0.8.0 in /Users/alexanderclark/anaconda3/lib/python3.11/site-packages (from jedi>=0.16->IPython->statwrap) (0.8.3)\n",
      "Requirement already satisfied: ptyprocess>=0.5 in /Users/alexanderclark/anaconda3/lib/python3.11/site-packages (from pexpect>4.3->IPython->statwrap) (0.7.0)\n",
      "Requirement already satisfied: wcwidth in /Users/alexanderclark/anaconda3/lib/python3.11/site-packages (from prompt-toolkit!=3.0.37,<3.1.0,>=3.0.30->IPython->statwrap) (0.2.5)\n",
      "Requirement already satisfied: six>=1.5 in /Users/alexanderclark/anaconda3/lib/python3.11/site-packages (from python-dateutil>=2.7->matplotlib->statwrap) (1.16.0)\n",
      "Requirement already satisfied: executing in /Users/alexanderclark/anaconda3/lib/python3.11/site-packages (from stack-data->IPython->statwrap) (0.8.3)\n",
      "Requirement already satisfied: asttokens in /Users/alexanderclark/anaconda3/lib/python3.11/site-packages (from stack-data->IPython->statwrap) (2.0.5)\n",
      "Requirement already satisfied: pure-eval in /Users/alexanderclark/anaconda3/lib/python3.11/site-packages (from stack-data->IPython->statwrap) (0.2.2)\n",
      "Downloading StatWrap-0.2.14-py3-none-any.whl (16 kB)\n",
      "Installing collected packages: statwrap\n",
      "  Attempting uninstall: statwrap\n",
      "    Found existing installation: StatWrap 0.2.13\n",
      "    Uninstalling StatWrap-0.2.13:\n",
      "      Successfully uninstalled StatWrap-0.2.13\n",
      "Successfully installed statwrap-0.2.14\n"
     ]
    }
   ],
   "source": [
    "!pip install --upgrade statwrap\n",
    "import statwrap\n",
    "%use_all"
   ]
  },
  {
   "cell_type": "markdown",
   "id": "7870c4a1",
   "metadata": {},
   "source": [
    "## Example 1 "
   ]
  },
  {
   "cell_type": "code",
   "execution_count": 11,
   "id": "a104cbd7",
   "metadata": {},
   "outputs": [
    {
     "data": {
      "image/png": "[encoded data removed]",
      "text/plain": [
       "<Figure size 640x480 with 1 Axes>"
      ]
     },
     "metadata": {},
     "output_type": "display_data"
    },
    {
     "name": "stdout",
     "output_type": "stream",
     "text": [
      "Correlation: 0.8999999999999999\n"
     ]
    }
   ],
   "source": [
    "x = 1, 2, 3, 4, 5\n",
    "y = 10, 30, 20, 40, 50\n",
    "\n",
    "scatter_plot(x,y)\n",
    "\n",
    "print('Correlation:', correl(x,y))"
   ]
  },
  {
   "cell_type": "code",
   "execution_count": 12,
   "id": "6c41b38e",
   "metadata": {},
   "outputs": [
    {
     "data": {
      "text/latex": [
       "$\\hat{y} = 3 +9 x_{1}$"
      ],
      "text/plain": [
       "<statwrap.utils.RegressionLine at 0x12da69d50>"
      ]
     },
     "execution_count": 12,
     "metadata": {},
     "output_type": "execute_result"
    }
   ],
   "source": [
    "# Direct Estimation\n",
    "\n",
    "regression_line = linest(y, x)\n",
    "regression_line"
   ]
  },
  {
   "cell_type": "code",
   "execution_count": 13,
   "id": "8910b755",
   "metadata": {},
   "outputs": [
    {
     "data": {
      "text/plain": [
       "(12.000000000000009, 21.000000000000007)"
      ]
     },
     "execution_count": 13,
     "metadata": {},
     "output_type": "execute_result"
    }
   ],
   "source": [
    "# predict y for x = 1 and x = 2\n",
    "\n",
    "regression_line(1), regression_line(2)"
   ]
  },
  {
   "cell_type": "code",
   "execution_count": 14,
   "id": "21421570",
   "metadata": {},
   "outputs": [
    {
     "name": "stdout",
     "output_type": "stream",
     "text": [
      "predicted Y = 3.0 + 9.0*X\n"
     ]
    }
   ],
   "source": [
    "# Use correlation\n",
    "\n",
    "correlation = correl(x,y)\n",
    "sd_x = sd(x)\n",
    "sd_y = sd(y)\n",
    "\n",
    "slope = correlation * sd_y/sd_x\n",
    "\n",
    "# y_average = intercept + slope*x_average \n",
    "intercept = average(y) - slope*average(x)\n",
    "\n",
    "print(f'predicted Y = {intercept} + {slope}*X')"
   ]
  },
  {
   "cell_type": "markdown",
   "id": "af8f5612",
   "metadata": {},
   "source": [
    "## Example 2 - Read from CSV\n",
    "\n",
    "Now we import a package called pandas to import data. "
   ]
  },
  {
   "cell_type": "code",
   "execution_count": 16,
   "id": "60c73fc0",
   "metadata": {},
   "outputs": [],
   "source": [
    "url = 'https://raw.githubusercontent.com/alexanderthclark/Stats1101/main/Data/FatherSonHeights/pearson.csv'\n",
    "\n",
    "# load a DataFrame\n",
    "df = pd.read_csv(url)\n",
    "\n",
    "# inp\n",
    "df.head()"
   ]
  },
  {
   "cell_type": "code",
   "execution_count": null,
   "id": "b4af6742",
   "metadata": {},
   "outputs": [],
   "source": []
  }
 ],
 "metadata": {
  "celltoolbar": "Edit Metadata",
  "kernelspec": {
   "display_name": "Python 3 (ipykernel)",
   "language": "python",
   "name": "python3"
  },
  "language_info": {
   "codemirror_mode": {
    "name": "ipython",
    "version": 3
   },
   "file_extension": ".py",
   "mimetype": "text/x-python",
   "name": "python",
   "nbconvert_exporter": "python",
   "pygments_lexer": "ipython3",
   "version": "3.11.5"
  }
 },
 "nbformat": 4,
 "nbformat_minor": 5
}
