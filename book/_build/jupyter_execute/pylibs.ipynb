{
 "cells": [
  {
   "cell_type": "markdown",
   "id": "c5af2e48",
   "metadata": {},
   "source": [
    "# Libraries\n",
    "\n",
    "You'll quickly hit a ceiling in Python's usefulness if you can't import external libraries. What if you want the value of $\\pi$? A TI-34 calculator would have a button for this number. In Python, we have to import a library like NumPy (short for Numerical Python). If a library is already installed, you can simply import it with a line like `import numpy`. Because `pi` is already defined within NumPy, we can then access the value with `numpy.pi`. "
   ]
  },
  {
   "cell_type": "code",
   "execution_count": 1,
   "id": "09fc8026",
   "metadata": {},
   "outputs": [
    {
     "data": {
      "text/plain": [
       "3.141592653589793"
      ]
     },
     "execution_count": 1,
     "metadata": {},
     "output_type": "execute_result"
    }
   ],
   "source": [
    "import numpy\n",
    "\n",
    "numpy.pi"
   ]
  },
  {
   "cell_type": "markdown",
   "id": "476c20bb",
   "metadata": {},
   "source": [
    "Note that `pi` was prefixed with `numpy` above. Because prefixing can be cumbersome, a library is sometimes *aliased* so that the prefix can be abbreviated. Below, we use the typical `np` alias."
   ]
  },
  {
   "cell_type": "code",
   "execution_count": 2,
   "id": "00bf32df",
   "metadata": {},
   "outputs": [
    {
     "data": {
      "text/plain": [
       "3.141592653589793"
      ]
     },
     "execution_count": 2,
     "metadata": {},
     "output_type": "execute_result"
    }
   ],
   "source": [
    "import numpy as np\n",
    "\n",
    "np.pi"
   ]
  },
  {
   "cell_type": "markdown",
   "id": "fe35ad9e",
   "metadata": {},
   "source": [
    "Next, suppose you have a $z$-score of 1.8 and you want to know what percentile that corresponds to. You can use a table, but this is a task best suited for a computer.\n",
    "\n",
    "To do this, we import the SciPy library, which includes a specific function that substitutes for a $z$-table.\n",
    "\n",
    "Once we run `import scipy`, SciPy's capabilities are available to us. It so happens that the function we want is `norm.cdf` from the `stats` submodule."
   ]
  },
  {
   "cell_type": "code",
   "execution_count": 3,
   "id": "7e86558c",
   "metadata": {},
   "outputs": [
    {
     "data": {
      "text/plain": [
       "0.9640696808870742"
      ]
     },
     "execution_count": 3,
     "metadata": {},
     "output_type": "execute_result"
    }
   ],
   "source": [
    "import scipy\n",
    "\n",
    "z = 1.8\n",
    "scipy.stats.norm.cdf(z) # The area to the left of z under a standard normal curve"
   ]
  },
  {
   "cell_type": "markdown",
   "id": "041848ac",
   "metadata": {},
   "source": [
    "Below, we import just the stats submodule and alias it as `stats` to shorten the code."
   ]
  },
  {
   "cell_type": "code",
   "execution_count": 4,
   "id": "78ac1866",
   "metadata": {},
   "outputs": [
    {
     "data": {
      "text/plain": [
       "0.9640696808870742"
      ]
     },
     "execution_count": 4,
     "metadata": {},
     "output_type": "execute_result"
    }
   ],
   "source": [
    "import scipy.stats as stats\n",
    "\n",
    "z = 1.8\n",
    "stats.norm.cdf(z) # The area to the left of z under a standard normal curve"
   ]
  },
  {
   "cell_type": "markdown",
   "id": "fffedeb4",
   "metadata": {},
   "source": [
    "This can be shortened further if we import just the `norm` object using the syntax below. None of these SciPy imports are clearly better than the others for our purposes. You'll see there are many ways to code the same thing and you'll find code online using all of these conventions. "
   ]
  },
  {
   "cell_type": "code",
   "execution_count": 5,
   "id": "5855556d",
   "metadata": {},
   "outputs": [],
   "source": [
    "from scipy.stats import norm"
   ]
  },
  {
   "cell_type": "code",
   "execution_count": 6,
   "id": "d19a3e8c",
   "metadata": {},
   "outputs": [
    {
     "data": {
      "text/plain": [
       "0.9640696808870742"
      ]
     },
     "execution_count": 6,
     "metadata": {},
     "output_type": "execute_result"
    }
   ],
   "source": [
    "norm.cdf(z)"
   ]
  }
 ],
 "metadata": {
  "kernelspec": {
   "display_name": "Python 3 (ipykernel)",
   "language": "python",
   "name": "python3"
  },
  "language_info": {
   "codemirror_mode": {
    "name": "ipython",
    "version": 3
   },
   "file_extension": ".py",
   "mimetype": "text/x-python",
   "name": "python",
   "nbconvert_exporter": "python",
   "pygments_lexer": "ipython3",
   "version": "3.11.5"
  }
 },
 "nbformat": 4,
 "nbformat_minor": 5
}