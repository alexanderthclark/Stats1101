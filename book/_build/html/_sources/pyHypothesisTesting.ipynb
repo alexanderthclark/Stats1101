{
 "cells": [
  {
   "cell_type": "markdown",
   "id": "47fc637c",
   "metadata": {},
   "source": [
    "# Hypothesis Testing\n",
    "\n",
    "## Proportions"
   ]
  },
  {
   "cell_type": "code",
   "execution_count": 1,
   "id": "f621884f",
   "metadata": {},
   "outputs": [],
   "source": [
    "from statsmodels.stats.proportion import proportions_ztest\n",
    "import scipy.stats as stats"
   ]
  },
  {
   "cell_type": "markdown",
   "id": "c1e34bd9",
   "metadata": {},
   "source": [
    "### One-sided, right tail\n",
    "\n",
    "This is a one-sided test based on a sample size of $n=30$ and a sample proportion of 18/30. \n",
    "\n",
    "$$H_0: p = 0.5$$\n",
    "$$H_A: p > 0.5$$"
   ]
  },
  {
   "cell_type": "code",
   "execution_count": 2,
   "id": "6e34a26d",
   "metadata": {},
   "outputs": [],
   "source": [
    "z_oneside, pval_oneside = proportions_ztest(count = 18, \n",
    "                                            nobs = 30, \n",
    "                                            value = .5, \n",
    "                                            prop_var = 0.5, \n",
    "                                            alternative = 'larger')"
   ]
  },
  {
   "cell_type": "code",
   "execution_count": 3,
   "id": "ab7a0f00",
   "metadata": {},
   "outputs": [
    {
     "name": "stdout",
     "output_type": "stream",
     "text": [
      "z-statistic: 1.0954451150103321\n",
      "P-value 0.13666083914614907\n"
     ]
    }
   ],
   "source": [
    "print(\"z-statistic:\", z_oneside)\n",
    "print(\"P-value\", pval_oneside)"
   ]
  },
  {
   "cell_type": "markdown",
   "id": "62359db6",
   "metadata": {},
   "source": [
    "### One-sided, left tail\n",
    "\n",
    "$$H_0: p = 0.5$$\n",
    "$$H_A: p < 0.5$$"
   ]
  },
  {
   "cell_type": "code",
   "execution_count": 4,
   "id": "56c187b5",
   "metadata": {},
   "outputs": [],
   "source": [
    "z_one_left, pval_one_left = proportions_ztest(count = 18, \n",
    "                                            nobs = 30, \n",
    "                                            value = .5, \n",
    "                                            prop_var = 0.5, \n",
    "                                            alternative = 'smaller')"
   ]
  },
  {
   "cell_type": "code",
   "execution_count": 5,
   "id": "465325d1",
   "metadata": {},
   "outputs": [
    {
     "name": "stdout",
     "output_type": "stream",
     "text": [
      "z-statistic: 1.0954451150103321\n",
      "P-value 0.863339160853851\n"
     ]
    }
   ],
   "source": [
    "print(\"z-statistic:\", z_one_left)\n",
    "print(\"P-value\", pval_one_left)"
   ]
  },
  {
   "cell_type": "markdown",
   "id": "96be488c",
   "metadata": {},
   "source": [
    "### Two-sided\n",
    "\n",
    "$$H_0: p = 0.5$$\n",
    "$$H_A: p \\neq 0.5$$"
   ]
  },
  {
   "cell_type": "code",
   "execution_count": 6,
   "id": "6e56b95d",
   "metadata": {},
   "outputs": [],
   "source": [
    "z_twoside, pval_twoside = proportions_ztest(count=18,\n",
    "                                            nobs=30,\n",
    "                                            value=.5,\n",
    "                                            prop_var=0.5,\n",
    "                                            alternative='two-sided')\n",
    "\n",
    "# Two sided by hand\n",
    "p_hat = 0.6\n",
    "p = .5\n",
    "n = 30\n",
    "sd = (p*(1-p) / (n))**0.5 # st dev from sampling distribution\n",
    "z2 = (p_hat - p)/sd # test stat\n",
    "pval2 = 2*(1 - stats.norm.cdf(z2)) # P-value"
   ]
  },
  {
   "cell_type": "code",
   "execution_count": 7,
   "id": "9f50f4df",
   "metadata": {
    "scrolled": true
   },
   "outputs": [
    {
     "name": "stdout",
     "output_type": "stream",
     "text": [
      "z-statistic: 1.0954451150103321\n",
      "P-value 0.27332167829229814\n"
     ]
    }
   ],
   "source": [
    "print(\"z-statistic:\", z_twoside)\n",
    "print(\"P-value\", pval_twoside)"
   ]
  },
  {
   "cell_type": "code",
   "execution_count": null,
   "id": "1929a98d",
   "metadata": {},
   "outputs": [],
   "source": []
  }
 ],
 "metadata": {
  "kernelspec": {
   "display_name": "Python 3 (ipykernel)",
   "language": "python",
   "name": "python3"
  },
  "language_info": {
   "codemirror_mode": {
    "name": "ipython",
    "version": 3
   },
   "file_extension": ".py",
   "mimetype": "text/x-python",
   "name": "python",
   "nbconvert_exporter": "python",
   "pygments_lexer": "ipython3",
   "version": "3.11.5"
  }
 },
 "nbformat": 4,
 "nbformat_minor": 5
}
