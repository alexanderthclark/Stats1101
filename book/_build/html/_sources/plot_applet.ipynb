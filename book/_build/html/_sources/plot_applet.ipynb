{
 "cells": [
  {
   "cell_type": "code",
   "execution_count": 1,
   "id": "8350f9e5",
   "metadata": {},
   "outputs": [],
   "source": [
    "import bokeh"
   ]
  },
  {
   "cell_type": "code",
   "execution_count": 2,
   "id": "1e7eb0ab",
   "metadata": {},
   "outputs": [],
   "source": [
    "from bokeh.plotting import figure, show\n",
    "from bokeh.io import output_notebook"
   ]
  },
  {
   "cell_type": "code",
   "execution_count": 3,
   "id": "2b49df42",
   "metadata": {},
   "outputs": [],
   "source": [
    "# prepare some data\n",
    "x = [1, 2, 3, 4, 5]\n",
    "y = [6, 7, 2, 4, 5]"
   ]
  },
  {
   "cell_type": "code",
   "execution_count": 4,
   "id": "fe4e347a",
   "metadata": {},
   "outputs": [
    {
     "data": {
      "text/plain": [
       "[1, 2, 3, 4, 5]"
      ]
     },
     "execution_count": 4,
     "metadata": {},
     "output_type": "execute_result"
    }
   ],
   "source": [
    "x"
   ]
  },
  {
   "cell_type": "code",
   "execution_count": 5,
   "id": "38be48d2",
   "metadata": {},
   "outputs": [],
   "source": [
    "# create a new plot with a title and axis labels\n",
    "p = figure(title=\"Simple line example\", x_axis_label='x', y_axis_label='y')\n",
    "\n",
    "# add a line renderer with legend and line thickness to the plot\n",
    "p.line(x, y, legend_label=\"Temp.\", line_width=2)\n",
    "\n",
    "# show the results\n",
    "show(p)"
   ]
  },
  {
   "cell_type": "code",
   "execution_count": 6,
   "id": "a0dfe463",
   "metadata": {
    "scrolled": false
   },
   "outputs": [],
   "source": [
    "from bokeh.io import output_notebook, show\n",
    "from bokeh.plotting import figure\n",
    "from bokeh.layouts import column\n",
    "from bokeh.models import ColumnDataSource, Slider, CustomJS\n",
    "import numpy as np\n",
    "\n",
    "#output_notebook()\n",
    "#\n",
    "# Define initial data\n",
    "mean_init = 0\n",
    "stddev_init = 1\n",
    "x = np.linspace(-10, 10, 400)\n",
    "y = 1 / (stddev_init * np.sqrt(2 * np.pi)) * np.exp(-(x - mean_init)**2 / (2 * stddev_init**2))\n",
    "source = ColumnDataSource(data={'x': x, 'y': y})\n",
    "\n",
    "# Create a new plot\n",
    "plot = figure(width=400, height=400)  # Adjust parameter names if needed\n",
    "plot.line('x', 'y', source=source, line_width=3, line_alpha=0.6)\n",
    "\n",
    "# JavaScript callback for sliders\n",
    "callback = CustomJS(args=dict(source=source), code=\"\"\"\n",
    "    const data = source.data;\n",
    "    const A = cb_obj.value;\n",
    "    const x = data['x'];\n",
    "    const y = data['y'];\n",
    "    const B = stddev_slider.value;\n",
    "    for (let i = 0; i < x.length; i++) {\n",
    "        y[i] = 1 / (B * Math.sqrt(2 * Math.PI)) * Math.exp(-Math.pow(x[i] - A, 2) / (2 * Math.pow(B, 2)));\n",
    "    }\n",
    "    source.change.emit();\n",
    "\"\"\")\n",
    "\n",
    "mean_slider = Slider(start=-10, end=10, value=mean_init, step=0.1, title=\"Mean\")\n",
    "mean_slider.js_on_change('value', callback)\n",
    "\n",
    "stddev_slider = Slider(start=0.1, end=5, value=stddev_init, step=0.1, title=\"Standard Deviation\")\n",
    "stddev_slider.js_on_change('value', callback)\n",
    "\n",
    "callback.args[\"stddev_slider\"] = stddev_slider  # Update callback to include stddev_slider\n",
    "\n",
    "layout = column(mean_slider, stddev_slider, plot)\n",
    "\n",
    "show(layout)\n"
   ]
  },
  {
   "cell_type": "code",
   "execution_count": 7,
   "id": "8def40b1",
   "metadata": {},
   "outputs": [],
   "source": [
    "#!pip install ipympl"
   ]
  },
  {
   "cell_type": "raw",
   "id": "1f575054",
   "metadata": {},
   "source": [
    "%matplotlib widget\n",
    "import matplotlib.pyplot as plt\n",
    "import numpy as np\n",
    "import ipywidgets as widgets\n",
    "from IPython.display import display\n",
    "\n",
    "def plot_sine_wave(frequency=1.0, amplitude=1.0):\n",
    "    t = np.linspace(0, 1, 500)\n",
    "    y = amplitude * np.sin(2 * np.pi * frequency * t)\n",
    "    plt.figure(figsize=(10, 4))\n",
    "    plt.plot(t, y)\n",
    "    plt.ylim(-5, 5)\n",
    "    plt.title(\"Interactive Sine Wave\")\n",
    "    plt.xlabel(\"Time\")\n",
    "    plt.ylabel(\"Amplitude\")\n",
    "    plt.show()\n",
    "\n",
    "frequency_slider = widgets.FloatSlider(value=1.0, min=0.1, max=5.0, step=0.1, description='Frequency:')\n",
    "amplitude_slider = widgets.FloatSlider(value=1.0, min=0.1, max=5.0, step=0.1, description='Amplitude:')\n",
    "widgets.interactive(plot_sine_wave, frequency=frequency_slider, amplitude=amplitude_slider)\n"
   ]
  },
  {
   "cell_type": "code",
   "execution_count": 8,
   "id": "1f911bca",
   "metadata": {},
   "outputs": [],
   "source": [
    "from bokeh.io import show, output_notebook\n",
    "from bokeh.layouts import column\n",
    "from bokeh.models import CustomJS, Slider\n",
    "from bokeh.plotting import figure\n",
    "from scipy.stats import norm\n",
    "import numpy as np\n",
    "\n",
    "#output_notebook()\n",
    "\n",
    "# Standard normal curve data\n",
    "x = np.linspace(-5, 5, 1000)\n",
    "y = norm.pdf(x)\n",
    "\n",
    "# Bokeh plot setup\n",
    "plot = figure(title=\"Area under Standard Normal Curve\", tools=\"crosshair,pan,reset,save,wheel_zoom\",\n",
    "              x_range=[-5, 5], y_range=[0, max(y)*1.1])\n",
    "\n",
    "line = plot.line(x, y, line_width=2)\n",
    "shaded_area = plot.varea(x, y1=0, y2=y, alpha=0.3)\n",
    "\n",
    "# JavaScript callback for interactive sliders\n",
    "callback = CustomJS(args=dict(line=line, shaded_area=shaded_area, x=x, y=y), code=\"\"\"\n",
    "    const data = line.data;\n",
    "    const A = shaded_area.data;\n",
    "    const left_limit = left_slider.value;\n",
    "    const right_limit = right_slider.value;\n",
    "    const y = data['y'];\n",
    "    const x = data['x'];\n",
    "    const newY = [];\n",
    "    const newX = [];\n",
    "    \n",
    "    for (let i = 0; i < x.length; i++) {\n",
    "        if (x[i] >= left_limit && x[i] <= right_limit) {\n",
    "            newY.push(y[i]);\n",
    "            newX.push(x[i]);\n",
    "        } else {\n",
    "            newY.push(0);\n",
    "            newX.push(x[i]);\n",
    "        }\n",
    "    }\n",
    "    \n",
    "    A['y2'] = newY;\n",
    "    shaded_area.change.emit();\n",
    "\"\"\")\n",
    "\n",
    "# Sliders for left and right limits\n",
    "left_slider = Slider(start=-5, end=5, value=-1, step=0.1, title=\"Left Limit\")\n",
    "right_slider = Slider(start=-5, end=5, value=1, step=0.1, title=\"Right Limit\")\n",
    "\n",
    "left_slider.js_on_change('value', callback)\n",
    "right_slider.js_on_change('value', callback)\n",
    "\n",
    "callback.args[\"left_slider\"] = left_slider\n",
    "callback.args[\"right_slider\"] = right_slider\n",
    "\n",
    "layout = column(left_slider, right_slider, plot)\n",
    "show(layout)\n"
   ]
  },
  {
   "cell_type": "code",
   "execution_count": 9,
   "id": "cc98cdc5",
   "metadata": {},
   "outputs": [
    {
     "name": "stderr",
     "output_type": "stream",
     "text": [
      "WARNING:bokeh.embed.util:\n",
      "You are generating standalone HTML/JS output, but trying to use real Python\n",
      "callbacks (i.e. with on_change or on_event). This combination cannot work.\n",
      "\n",
      "Only JavaScript callbacks may be used with standalone output. For more\n",
      "information on JavaScript callbacks with Bokeh, see:\n",
      "\n",
      "    https://docs.bokeh.org/en/latest/docs/user_guide/interaction/callbacks.html\n",
      "\n",
      "Alternatively, to use real Python callbacks, a Bokeh server application may\n",
      "be used. For more information on building and running Bokeh applications, see:\n",
      "\n",
      "    https://docs.bokeh.org/en/latest/docs/user_guide/server.html\n",
      "\n"
     ]
    }
   ],
   "source": [
    "from bokeh.io import push_notebook, show, output_notebook\n",
    "from bokeh.layouts import column\n",
    "from bokeh.models import CustomJS, Slider, Div\n",
    "from bokeh.plotting import figure\n",
    "from scipy.stats import norm\n",
    "import numpy as np\n",
    "\n",
    "#\n",
    "# Standard normal curve data\n",
    "x = np.linspace(-5, 5, 1000)\n",
    "y = norm.pdf(x)\n",
    "\n",
    "# Bokeh plot setup\n",
    "plot = figure(title=\"Area under Standard Normal Curve\", tools=\"crosshair,pan,reset,save,wheel_zoom\",\n",
    "              x_range=[-5, 5], y_range=[0, max(y)*1.1])\n",
    "\n",
    "line = plot.line(x, y, line_width=2)\n",
    "shaded_area = plot.varea(x, y1=0, y2=y, alpha=0.3)\n",
    "\n",
    "# Area calculation and display\n",
    "area_text = Div(text=\"Area: 0.00%\")\n",
    "\n",
    "def update_area(left, right):\n",
    "    area = norm.cdf(right) - norm.cdf(left)\n",
    "    area_text.text = f\"Area: {area:.2%}\"\n",
    "\n",
    "# Sliders for left and right limits\n",
    "left_slider = Slider(start=-5, end=5, value=-1, step=0.1, title=\"Left Limit\")\n",
    "right_slider = Slider(start=-5, end=5, value=1, step=0.1, title=\"Right Limit\")\n",
    "\n",
    "def update(attr, old, new):\n",
    "    left = left_slider.value\n",
    "    right = right_slider.value\n",
    "    x_new = np.linspace(-5, 5, 1000)\n",
    "    y_new = np.where((x_new >= left) & (x_new <= right), norm.pdf(x_new), 0)\n",
    "    shaded_area.data_source.data['y2'] = y_new\n",
    "    update_area(left, right)\n",
    "\n",
    "left_slider.on_change('value', update)\n",
    "right_slider.on_change('value', update)\n",
    "\n",
    "layout = column(left_slider, right_slider, area_text, plot)\n",
    "\n",
    "# Show plot\n",
    "show(layout, notebook_handle=True)\n"
   ]
  },
  {
   "cell_type": "code",
   "execution_count": null,
   "id": "cd49c464",
   "metadata": {},
   "outputs": [],
   "source": []
  }
 ],
 "metadata": {
  "kernelspec": {
   "display_name": "Python 3 (ipykernel)",
   "language": "python",
   "name": "python3"
  },
  "language_info": {
   "codemirror_mode": {
    "name": "ipython",
    "version": 3
   },
   "file_extension": ".py",
   "mimetype": "text/x-python",
   "name": "python",
   "nbconvert_exporter": "python",
   "pygments_lexer": "ipython3",
   "version": "3.11.5"
  }
 },
 "nbformat": 4,
 "nbformat_minor": 5
}
