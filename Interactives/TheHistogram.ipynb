{
  "nbformat": 4,
  "nbformat_minor": 0,
  "metadata": {
    "colab": {
      "provenance": [],
      "authorship_tag": "ABX9TyPbbLKCvAfgJ/yTXytKl/mi",
      "include_colab_link": true
    },
    "kernelspec": {
      "name": "python3",
      "display_name": "Python 3"
    },
    "language_info": {
      "name": "python"
    }
  },
  "cells": [
    {
      "cell_type": "markdown",
      "metadata": {
        "id": "view-in-github",
        "colab_type": "text"
      },
      "source": [
        "<a href=\"https://colab.research.google.com/github/alexanderthclark/Stats1101/blob/main/Interactives/TheHistogram.ipynb\" target=\"_parent\"><img src=\"https://colab.research.google.com/assets/colab-badge.svg\" alt=\"Open In Colab\"/></a>"
      ]
    },
    {
      "cell_type": "markdown",
      "source": [
        "# The Histogram\n",
        "\n",
        "This notebook generates random integers between 0 and 100 and then plots a histogram for the distribution.\n",
        "\n",
        "The notebook will draw the same random numbers for a specified value of `number_of_values` each time, so you can adjust `class_intervals` to see how the changing the intervals changes the shape of the histogram for the same data."
      ],
      "metadata": {
        "id": "OWaybsXzWpSf"
      }
    },
    {
      "cell_type": "code",
      "source": [
        "# @title Start Notebook\n",
        "#!pip install statwrap\n",
        "#import statwrap\n",
        "#%use_fpp\n",
        "import pandas as pd\n",
        "import matplotlib.pyplot as plt\n",
        "import numpy as np\n",
        "np.random.seed(2)\n",
        "from IPython.display import Markdown as md\n",
        "from IPython.display import clear_output, display\n",
        "\n",
        "# @markdown #### How many values?\n",
        "number_of_values = 10 # @param {type:\"slider\", min:10, max:100, step:1}\n",
        "\n",
        "# @markdown #### What are the class interval boundaries?\n",
        "# @markdown Enter a comma separated sequence of numbers.\n",
        "# @markdown Intervals include the left boundary and exclude the right boundary. The last interval includes both boundaries, however.\n",
        "class_intervals = '0,100' # @param {type:\"string\"}\n",
        "clear_output()\n",
        "\n",
        "nums = np.random.randint(0, 100, size=number_of_values)\n",
        "display(md('<tt>🤖 **Values obtained**:</tt>'))\n",
        "print(nums)\n",
        "\n",
        "# make hist\n",
        "b = [float(i) for i in class_intervals.split(\",\")]\n",
        "fig, ax = plt.subplots()\n",
        "k = 1.1\n",
        "n, bins, patches = ax.hist(nums,\n",
        "        bins = b,\n",
        "        density = True,\n",
        "        ec = 'black',\n",
        "        fc = (.96/k, .99/k, .99/k))\n",
        "ax.set_title(\"Random Histogram\")\n",
        "# multiply yticks by 100 for percentage\n",
        "yticks = ax.get_yticks()\n",
        "ax.set_yticks(yticks)\n",
        "ax.set_yticklabels([100*i for i in yticks])\n",
        "ax.set_ylabel(\"Percent Per Unit\")\n",
        "\n",
        "fig.set_dpi(100)\n",
        "\n",
        "plt.show()\n",
        "\n",
        "\n",
        "intervals = [pd.Interval(left=bins[i], right=bins[i + 1], closed='left') for i in range(len(bins) - 2)]\n",
        "intervals.append(pd.Interval(left=bins[-2], right=bins[-1], closed='both'))  # Last bin closed on both sides\n",
        "\n",
        "display(md(\"**Class Intervals**\"))\n",
        "for i in intervals:\n",
        "  count = np.sum([k in i for k in nums])\n",
        "  pct = f\"{100*count/len(nums):.1f}%\"\n",
        "  s = f\"{i}: {count} ({pct}%)\"\n",
        "  print(s)"
      ],
      "metadata": {
        "colab": {
          "base_uri": "https://localhost:8080/",
          "height": 547
        },
        "cellView": "form",
        "id": "7Jb3fWm6WqV7",
        "outputId": "d624ec27-0ccc-4462-c3a2-ea71f599bbc3"
      },
      "execution_count": 4,
      "outputs": [
        {
          "output_type": "display_data",
          "data": {
            "text/plain": [
              "<IPython.core.display.Markdown object>"
            ],
            "text/markdown": "<tt>🤖 **Values obtained**:</tt>"
          },
          "metadata": {}
        },
        {
          "output_type": "stream",
          "name": "stdout",
          "text": [
            "[40 15 72 22 43 82 75  7 34 49]\n"
          ]
        },
        {
          "output_type": "display_data",
          "data": {
            "text/plain": [
              "<Figure size 640x480 with 1 Axes>"
            ],
            "image/png": "[encoded data removed]"
          },
          "metadata": {}
        },
        {
          "output_type": "display_data",
          "data": {
            "text/plain": [
              "<IPython.core.display.Markdown object>"
            ],
            "text/markdown": "**Class Intervals**"
          },
          "metadata": {}
        },
        {
          "output_type": "stream",
          "name": "stdout",
          "text": [
            "[0.0, 100.0]: 10 (100.0%%)\n"
          ]
        }
      ]
    }
  ]
}